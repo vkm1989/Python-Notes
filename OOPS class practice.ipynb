{
 "cells": [
  {
   "cell_type": "markdown",
   "id": "7283e019",
   "metadata": {},
   "source": [
    "# Object Oriented Programming"
   ]
  },
  {
   "cell_type": "markdown",
   "id": "006508fa",
   "metadata": {},
   "source": [
    "Object Oriented Programming(oops) is programming paradigm that allows abstraction through the concept interacting entities.The programming works contadictionary tp convential model and is procedural in which programs are organised as a sequence of commands or statements to perform.\n",
    "\n",
    "We can think an object as an entity that resides in memory, has a state and its able to perform some actions.\n",
    "\n",
    "In python, every thing is an object also class and functions.\n",
    "\n",
    "Class is used to keep related things together."
   ]
  },
  {
   "cell_type": "markdown",
   "id": "90259dfb",
   "metadata": {},
   "source": [
    "# 1. How to define classes"
   ]
  },
  {
   "cell_type": "markdown",
   "id": "c193343f",
   "metadata": {},
   "source": [
    "Creating a class"
   ]
  },
  {
   "cell_type": "markdown",
   "id": "ebfe596c",
   "metadata": {},
   "source": [
    "Suppose we want to create a class, name, person, as a prototype, a sort of template for any number of 'person' object(instances)"
   ]
  },
  {
   "cell_type": "markdown",
   "id": "2e89b10c",
   "metadata": {},
   "source": [
    "# syntax: define a class"
   ]
  },
  {
   "cell_type": "markdown",
   "id": "dbc08f7d",
   "metadata": {},
   "source": [
    "class ClassName(base_class):\n",
    "    \n",
    "       \n",
    "Statements\n",
    "    \n",
    "Class name should always be upper case(its naming convention)"
   ]
  },
  {
   "cell_type": "code",
   "execution_count": 2,
   "id": "335d7c71",
   "metadata": {},
   "outputs": [],
   "source": [
    "class Gmail:\n",
    "    pass"
   ]
  },
  {
   "cell_type": "markdown",
   "id": "e88bc620",
   "metadata": {},
   "source": [
    "            __init__(self, .....)"
   ]
  },
  {
   "cell_type": "markdown",
   "id": "db4a4fe8",
   "metadata": {},
   "source": [
    "           __init__(self, ....) : will register/initialize your details with google, self will help you to get your respective details back, when you click different tabs."
   ]
  },
  {
   "cell_type": "code",
   "execution_count": 5,
   "id": "3b246d57",
   "metadata": {},
   "outputs": [],
   "source": [
    "class Gmail:\n",
    "    def __init__(self, name, last_name, city, user_id, password): # attribute or arguments\n",
    "        \n",
    "        \n",
    "    \n",
    "       # data initialization\n",
    "    \n",
    "        self.name = name\n",
    "        self.last_name = last_name\n",
    "        self.city = city\n",
    "        self.user_id = user_id\n",
    "        self.password = password\n",
    "    "
   ]
  },
  {
   "cell_type": "markdown",
   "id": "b7a4ecd1",
   "metadata": {},
   "source": [
    "# Methods"
   ]
  },
  {
   "cell_type": "markdown",
   "id": "e9df6966",
   "metadata": {},
   "source": [
    "In thpe below example, arguments is being passed to __init__ method to initialize the object.The key word self represents the instance of a class and bind the attributes with the given arguments. \n",
    "\n",
    "In the same way you can create and pass on multiple names as an arguments.You can create multiple methods for different reasons."
   ]
  },
  {
   "cell_type": "code",
   "execution_count": 89,
   "id": "10ea60d1",
   "metadata": {},
   "outputs": [],
   "source": [
    "class Gmail:\n",
    "    def __init__(self, name, last_name, city, user_id, password): # attribute or arguments\n",
    "        \n",
    "        \n",
    "    \n",
    "       # data initialization\n",
    "    \n",
    "        self.name = name\n",
    "        self.last_name = last_name\n",
    "        self.city = city\n",
    "        self.user_id = user_id\n",
    "        self.password = password\n",
    "        \n",
    "        \n",
    "        # register every thing with self\n",
    "        \n",
    "    def login(self): # Method\n",
    "            while True:\n",
    "                signin = input('Email -  ')\n",
    "                password = input('password -  ')\n",
    "                \n",
    "                if signin == self.user_id and password == self.password:\n",
    "                    print('successfully logged in')\n",
    "                \n",
    "                    break\n",
    "            \n",
    "                \n",
    "                else:\n",
    "                    \n",
    "                    print('user_id or password is invalid')\n",
    "                \n",
    "                    continue\n",
    "                \n",
    "    def personal_info(self): # Method\n",
    "        print('Name :  ', self.name)\n",
    "        print('Last_name :  ', self.last_name)\n",
    "        print('City :  ', self.city)\n",
    "            \n",
    "    def general_info(self): # Method\n",
    "        print('Language :  ','English(US)')\n",
    "        print('user_id :  ', self.user_id)\n",
    "                    \n",
    "                    \n",
    "    \n",
    "    "
   ]
  },
  {
   "cell_type": "code",
   "execution_count": 90,
   "id": "c1569caf",
   "metadata": {},
   "outputs": [],
   "source": [
    "# mail is an object and Gmail is class\n",
    "\n",
    "# instanting a class and create an object for the class\n",
    "\n",
    "mail = Gmail('vikas', 'mishra', 'Bihar', 'vikas_mishra', 'kanchan@123')"
   ]
  },
  {
   "cell_type": "code",
   "execution_count": 91,
   "id": "48414c2e",
   "metadata": {},
   "outputs": [
    {
     "name": "stdout",
     "output_type": "stream",
     "text": [
      "Email -  vikas_mishra\n",
      "password -  kan123\n",
      "user_id or password is invalid\n",
      "Email -  vikas_mis\n",
      "password -  kanchan@123\n",
      "user_id or password is invalid\n",
      "Email -  vikas_mishra\n",
      "password -  kanchan@123\n",
      "successfully logged in\n"
     ]
    }
   ],
   "source": [
    "# call method\n",
    "\n",
    "mail.login()"
   ]
  },
  {
   "cell_type": "code",
   "execution_count": 92,
   "id": "940930c9",
   "metadata": {},
   "outputs": [
    {
     "name": "stdout",
     "output_type": "stream",
     "text": [
      "Name :   vikas\n",
      "Last_name :   mishra\n",
      "City :   Bihar\n"
     ]
    }
   ],
   "source": [
    "mail.personal_info()"
   ]
  },
  {
   "cell_type": "code",
   "execution_count": 93,
   "id": "f91a1e8c",
   "metadata": {},
   "outputs": [
    {
     "name": "stdout",
     "output_type": "stream",
     "text": [
      "Language :   English(US)\n",
      "user_id :   vikas_mishra\n"
     ]
    }
   ],
   "source": [
    "mail.general_info()"
   ]
  },
  {
   "cell_type": "markdown",
   "id": "abd62ef9",
   "metadata": {},
   "source": [
    "# Inheritance"
   ]
  },
  {
   "cell_type": "code",
   "execution_count": 94,
   "id": "1be27fe0",
   "metadata": {},
   "outputs": [],
   "source": [
    "class Gmail_new(Gmail):\n",
    "    def __init__(self, phone_number, *args):\n",
    "        super(Gmail_new, self).__init__(*args)\n",
    "        self.phone_number = phone_number\n",
    "        \n",
    "    def password_recovery(self):\n",
    "        phone = int(input('Enter register phone number :  '))\n",
    "        \n",
    "        if phone == self.phone_number:\n",
    "            print('Your password is : ', self.password)\n",
    "            \n",
    "        else:\n",
    "            print('Invalid Phone Number')"
   ]
  },
  {
   "cell_type": "code",
   "execution_count": 95,
   "id": "10550d48",
   "metadata": {},
   "outputs": [],
   "source": [
    "new_mail = Gmail_new(9760399389, 'vikas', 'mishra', 'Bihar', 'vikas_mishra', 'kanchan@123')\n"
   ]
  },
  {
   "cell_type": "code",
   "execution_count": 98,
   "id": "664f4652",
   "metadata": {},
   "outputs": [
    {
     "name": "stdout",
     "output_type": "stream",
     "text": [
      "Enter register phone number :  9760399389\n",
      "Your password is :  kanchan@123\n"
     ]
    }
   ],
   "source": [
    "new_mail.password_recovery()"
   ]
  },
  {
   "cell_type": "markdown",
   "id": "3bb80530",
   "metadata": {},
   "source": [
    "once a class is defined its model a concept.It is useful to extend a class behaviour to model a less general concept.Say we need to copy properties of old gmail and add new property or attribute and create new version of gmail. "
   ]
  },
  {
   "cell_type": "markdown",
   "id": "76cd3695",
   "metadata": {},
   "source": [
    "          *args : I don't know how much information will get so, use *args\n",
    "    \n",
    "    \n",
    "          super(Gmail_new, self).__init__(*args)\n",
    "        # initialize Gmail data, Gmail_new class intigrate both Gmail_new or Gmail class\n",
    "        \n",
    "        # We are to intigrate old class and new class with super\n",
    "           "
   ]
  },
  {
   "cell_type": "markdown",
   "id": "69b1a88c",
   "metadata": {},
   "source": [
    "  super() gives you access to methods in a super class from the sub class that inherits from it.\n",
    "  super() alone returns a temporary object of the super class that then they allow's you to call that super class's methods."
   ]
  },
  {
   "cell_type": "markdown",
   "id": "4e187125",
   "metadata": {},
   "source": [
    "# Encapsulations"
   ]
  },
  {
   "cell_type": "markdown",
   "id": "5f772be7",
   "metadata": {},
   "source": [
    "    Encapsulation is a another powerful way to extend a class which consists on wrapping an object with a second one.\n",
    "    Just like Gmail, Gdrive, Google Photos are wrapped into one.\n",
    "    The abstraction process relies on creating a simplified model that removes useless details from a concept.\n",
    "    In order to be simplified a model should be described in terms of other simpler concepts.\n",
    "      \n",
    "        \n",
    "        Example: car is composed by:\n",
    "                \n",
    "                * Tyres\n",
    "                * Engine\n",
    "                * Body\n",
    "                \n",
    "    And breakdown each one of these elements in simpler parts until we reach primitive data.\n",
    "            "
   ]
  },
  {
   "cell_type": "code",
   "execution_count": 2,
   "id": "2a39dac2",
   "metadata": {},
   "outputs": [
    {
     "name": "stdout",
     "output_type": "stream",
     "text": [
      "Tyres: \n",
      " \tBranch: MRF\n",
      " \tBelted_Bias: True\n",
      " \tOptimal Pressure: 34\n",
      "Engine: \n",
      " \tFuel Type: Petrol\n",
      " \tNoise Level: 2.3\n",
      "Body: \n",
      " \tSize: SUV\n"
     ]
    }
   ],
   "source": [
    "class Tyres:\n",
    "    def __init__(self, branch, belted_bias, opt_pressure):\n",
    "        \n",
    "        self.branch = branch\n",
    "        self.belted_bias = belted_bias\n",
    "        self.opt_pressure = opt_pressure\n",
    "        \n",
    "    def __str__(self): #__str__ can be used if you don't want to define a function name but you want this to execute.\n",
    "        \n",
    "        return(\"Tyres: \\n \\tBranch: \" + self.branch +\n",
    "              \"\\n \\tBelted_Bias: \" + str(self.belted_bias) +\n",
    "              \"\\n \\tOptimal Pressure: \" + str(self.opt_pressure)) # str returns only text so we are converting into string\n",
    "    \n",
    "class Engine:\n",
    "    def __init__(self, fuel_type, noise_level):\n",
    "        \n",
    "        self.fuel_type = fuel_type\n",
    "        self.noise_level = noise_level\n",
    "        \n",
    "    def __str__(self):\n",
    "        \n",
    "        return(\"Engine: \\n \\tFuel Type: \" + self.fuel_type +\n",
    "              \"\\n \\tNoise Level: \" + str(self.noise_level))\n",
    "    \n",
    "class Body:\n",
    "    def __init__(self, size):\n",
    "        \n",
    "        self.size = size\n",
    "    def __str__(self):  \n",
    "        \n",
    "        return \"Body: \\n \\tSize: \" + self.size\n",
    "    \n",
    "class Car:\n",
    "    def __init__(self, tyres, engine, body):\n",
    "        \n",
    "        self.tyres = tyres\n",
    "        self.engine = engine\n",
    "        self.body = body\n",
    "     \n",
    "    def __str__(self):\n",
    "        \n",
    "        return str(self.tyres) + \"\\n\" + str(self.engine) + \"\\n\" + str(self.body)\n",
    "    \n",
    "    \n",
    "# create object\n",
    "\n",
    "t = Tyres('MRF', True, 34)\n",
    "e = Engine('Petrol', 2.3)\n",
    "b = Body('SUV')\n",
    "c = Car(t, e, b)\n",
    "print(c)\n",
    "        \n",
    "        \n",
    "    \n",
    "        "
   ]
  },
  {
   "cell_type": "code",
   "execution_count": null,
   "id": "d456ed43",
   "metadata": {},
   "outputs": [],
   "source": []
  }
 ],
 "metadata": {
  "kernelspec": {
   "display_name": "Python 3 (ipykernel)",
   "language": "python",
   "name": "python3"
  },
  "language_info": {
   "codemirror_mode": {
    "name": "ipython",
    "version": 3
   },
   "file_extension": ".py",
   "mimetype": "text/x-python",
   "name": "python",
   "nbconvert_exporter": "python",
   "pygments_lexer": "ipython3",
   "version": "3.9.7"
  }
 },
 "nbformat": 4,
 "nbformat_minor": 5
}
