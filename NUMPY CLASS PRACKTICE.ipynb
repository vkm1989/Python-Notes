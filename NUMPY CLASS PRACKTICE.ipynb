{
 "cells": [
  {
   "cell_type": "markdown",
   "id": "fa82c944",
   "metadata": {},
   "source": [
    "# NUMPY(NUMERICAL PYTHON)"
   ]
  },
  {
   "cell_type": "markdown",
   "id": "331b1814",
   "metadata": {},
   "source": [
    "# ARRAY"
   ]
  },
  {
   "cell_type": "markdown",
   "id": "b27a81b7",
   "metadata": {},
   "source": [
    "An array is a collection of items stored at contiguous memory location, each identified by at least one array index or key.\n",
    "    \n",
    "The idea is to store multiple items of the same type together."
   ]
  },
  {
   "cell_type": "markdown",
   "id": "670ba84f",
   "metadata": {},
   "source": [
    "# NUMPY TUTORIAL"
   ]
  },
  {
   "cell_type": "markdown",
   "id": "cba305d1",
   "metadata": {},
   "source": [
    "Numpy is python package. It stands for\"Numerical Python\". It is a Library consisting of multidimensional array objects and a collection of routines for processing of array"
   ]
  },
  {
   "cell_type": "code",
   "execution_count": 8,
   "id": "fcb00de4",
   "metadata": {},
   "outputs": [],
   "source": [
    "import numpy"
   ]
  },
  {
   "cell_type": "code",
   "execution_count": 9,
   "id": "82d210d6",
   "metadata": {},
   "outputs": [
    {
     "data": {
      "text/plain": [
       "array([1, 2, 3, 4, 5, 6])"
      ]
     },
     "execution_count": 9,
     "metadata": {},
     "output_type": "execute_result"
    }
   ],
   "source": [
    "numpy.array([1,2,3,4,5,6])"
   ]
  },
  {
   "cell_type": "code",
   "execution_count": 10,
   "id": "6436ccb8",
   "metadata": {},
   "outputs": [
    {
     "data": {
      "text/plain": [
       "array([11, 12, 13, 14, 15])"
      ]
     },
     "execution_count": 10,
     "metadata": {},
     "output_type": "execute_result"
    }
   ],
   "source": [
    "numpy.array([11,12,13,14,15])"
   ]
  },
  {
   "cell_type": "code",
   "execution_count": 11,
   "id": "f810a25e",
   "metadata": {},
   "outputs": [],
   "source": [
    "a = numpy.array([10,20,30,40])"
   ]
  },
  {
   "cell_type": "code",
   "execution_count": 12,
   "id": "3314c86d",
   "metadata": {},
   "outputs": [
    {
     "data": {
      "text/plain": [
       "array([10, 20, 30, 40])"
      ]
     },
     "execution_count": 12,
     "metadata": {},
     "output_type": "execute_result"
    }
   ],
   "source": [
    "a"
   ]
  },
  {
   "cell_type": "code",
   "execution_count": 13,
   "id": "aa182f3b",
   "metadata": {},
   "outputs": [
    {
     "data": {
      "text/plain": [
       "4"
      ]
     },
     "execution_count": 13,
     "metadata": {},
     "output_type": "execute_result"
    }
   ],
   "source": [
    "a.size"
   ]
  },
  {
   "cell_type": "code",
   "execution_count": 7,
   "id": "05bc38d3",
   "metadata": {},
   "outputs": [
    {
     "data": {
      "text/plain": [
       "dtype('int32')"
      ]
     },
     "execution_count": 7,
     "metadata": {},
     "output_type": "execute_result"
    }
   ],
   "source": [
    "# by default int32\n",
    "\n",
    "a.dtype\n"
   ]
  },
  {
   "cell_type": "code",
   "execution_count": 1,
   "id": "543d2bb6",
   "metadata": {},
   "outputs": [],
   "source": [
    "import numpy as np    # np is alternative name/alias"
   ]
  },
  {
   "cell_type": "code",
   "execution_count": 14,
   "id": "fe4b9700",
   "metadata": {},
   "outputs": [],
   "source": [
    "a1=np.array([12,13,14,15,2,4,56,8,9,1,11])"
   ]
  },
  {
   "cell_type": "code",
   "execution_count": 15,
   "id": "61bc5174",
   "metadata": {},
   "outputs": [
    {
     "data": {
      "text/plain": [
       "array([12, 13, 14, 15,  2,  4, 56,  8,  9,  1, 11])"
      ]
     },
     "execution_count": 15,
     "metadata": {},
     "output_type": "execute_result"
    }
   ],
   "source": [
    "a1"
   ]
  },
  {
   "cell_type": "code",
   "execution_count": 25,
   "id": "0e5eb2ec",
   "metadata": {},
   "outputs": [
    {
     "data": {
      "text/plain": [
       "1"
      ]
     },
     "execution_count": 25,
     "metadata": {},
     "output_type": "execute_result"
    }
   ],
   "source": [
    "a1.min()"
   ]
  },
  {
   "cell_type": "code",
   "execution_count": 17,
   "id": "bdd4b360",
   "metadata": {},
   "outputs": [
    {
     "data": {
      "text/plain": [
       "56"
      ]
     },
     "execution_count": 17,
     "metadata": {},
     "output_type": "execute_result"
    }
   ],
   "source": [
    "a1.max()"
   ]
  },
  {
   "cell_type": "code",
   "execution_count": 19,
   "id": "ff8b7e27",
   "metadata": {},
   "outputs": [],
   "source": [
    "a2=np.array([1,2,3,4,5,6,7,8,9,10,11,12,13,14,15,18,20], dtype='int')"
   ]
  },
  {
   "cell_type": "code",
   "execution_count": 20,
   "id": "3d98fe5f",
   "metadata": {},
   "outputs": [
    {
     "data": {
      "text/plain": [
       "array([ 1,  2,  3,  4,  5,  6,  7,  8,  9, 10, 11, 12, 13, 14, 15, 18, 20])"
      ]
     },
     "execution_count": 20,
     "metadata": {},
     "output_type": "execute_result"
    }
   ],
   "source": [
    "a2"
   ]
  },
  {
   "cell_type": "code",
   "execution_count": 21,
   "id": "27491ee8",
   "metadata": {},
   "outputs": [
    {
     "data": {
      "text/plain": [
       "dtype('int32')"
      ]
     },
     "execution_count": 21,
     "metadata": {},
     "output_type": "execute_result"
    }
   ],
   "source": [
    "a2.dtype"
   ]
  },
  {
   "cell_type": "code",
   "execution_count": 26,
   "id": "e54c92c6",
   "metadata": {},
   "outputs": [
    {
     "data": {
      "text/plain": [
       "4"
      ]
     },
     "execution_count": 26,
     "metadata": {},
     "output_type": "execute_result"
    }
   ],
   "source": [
    "# gives the no. of bytes/memory occupied by each element\n",
    "\n",
    "a2.itemsize"
   ]
  },
  {
   "cell_type": "code",
   "execution_count": 27,
   "id": "3f2a7644",
   "metadata": {},
   "outputs": [
    {
     "data": {
      "text/plain": [
       "17"
      ]
     },
     "execution_count": 27,
     "metadata": {},
     "output_type": "execute_result"
    }
   ],
   "source": [
    "# gives the count of number of element\n",
    "\n",
    "a2.size"
   ]
  },
  {
   "cell_type": "code",
   "execution_count": 28,
   "id": "58cd9090",
   "metadata": {},
   "outputs": [],
   "source": [
    "a3=np.array([55,44,89,22,65], dtype='int64')"
   ]
  },
  {
   "cell_type": "code",
   "execution_count": 29,
   "id": "e73908e0",
   "metadata": {},
   "outputs": [
    {
     "data": {
      "text/plain": [
       "array([55, 44, 89, 22, 65], dtype=int64)"
      ]
     },
     "execution_count": 29,
     "metadata": {},
     "output_type": "execute_result"
    }
   ],
   "source": [
    "a3"
   ]
  },
  {
   "cell_type": "code",
   "execution_count": 30,
   "id": "e7278b47",
   "metadata": {},
   "outputs": [
    {
     "data": {
      "text/plain": [
       "5"
      ]
     },
     "execution_count": 30,
     "metadata": {},
     "output_type": "execute_result"
    }
   ],
   "source": [
    "a3.size"
   ]
  },
  {
   "cell_type": "code",
   "execution_count": 31,
   "id": "e00f274f",
   "metadata": {},
   "outputs": [
    {
     "data": {
      "text/plain": [
       "8"
      ]
     },
     "execution_count": 31,
     "metadata": {},
     "output_type": "execute_result"
    }
   ],
   "source": [
    "a3.itemsize"
   ]
  },
  {
   "cell_type": "code",
   "execution_count": 32,
   "id": "e5fd3870",
   "metadata": {},
   "outputs": [
    {
     "data": {
      "text/plain": [
       "dtype('int64')"
      ]
     },
     "execution_count": 32,
     "metadata": {},
     "output_type": "execute_result"
    }
   ],
   "source": [
    "a3.dtype #gives the data type"
   ]
  },
  {
   "cell_type": "code",
   "execution_count": 35,
   "id": "309bf12f",
   "metadata": {},
   "outputs": [
    {
     "data": {
      "text/plain": [
       "array([55., 44., 89., 22., 65.])"
      ]
     },
     "execution_count": 35,
     "metadata": {},
     "output_type": "execute_result"
    }
   ],
   "source": [
    "a4=np.array([55,44,89,22,65], dtype='float')\n",
    "a4\n"
   ]
  },
  {
   "cell_type": "code",
   "execution_count": 36,
   "id": "f2e177a9",
   "metadata": {},
   "outputs": [
    {
     "data": {
      "text/plain": [
       "5"
      ]
     },
     "execution_count": 36,
     "metadata": {},
     "output_type": "execute_result"
    }
   ],
   "source": [
    "a4.size\n"
   ]
  },
  {
   "cell_type": "code",
   "execution_count": 37,
   "id": "3fc1b5d6",
   "metadata": {},
   "outputs": [
    {
     "data": {
      "text/plain": [
       "8"
      ]
     },
     "execution_count": 37,
     "metadata": {},
     "output_type": "execute_result"
    }
   ],
   "source": [
    "a4.itemsize  # by default float is 8 bytes/64 bit"
   ]
  },
  {
   "cell_type": "code",
   "execution_count": 38,
   "id": "3b4ca8d7",
   "metadata": {},
   "outputs": [
    {
     "data": {
      "text/plain": [
       "dtype('float64')"
      ]
     },
     "execution_count": 38,
     "metadata": {},
     "output_type": "execute_result"
    }
   ],
   "source": [
    "a4.dtype"
   ]
  },
  {
   "cell_type": "code",
   "execution_count": 39,
   "id": "25e955cb",
   "metadata": {},
   "outputs": [
    {
     "data": {
      "text/plain": [
       "(5,)"
      ]
     },
     "execution_count": 39,
     "metadata": {},
     "output_type": "execute_result"
    }
   ],
   "source": [
    "# gives shape in dimension: rows and column.\n",
    "\n",
    "a4.shape\n"
   ]
  },
  {
   "cell_type": "markdown",
   "id": "9236cbad",
   "metadata": {},
   "source": [
    "2 Dimenstional Array(rows and column)"
   ]
  },
  {
   "cell_type": "code",
   "execution_count": 1,
   "id": "f41e98d1",
   "metadata": {},
   "outputs": [],
   "source": [
    "import numpy as np"
   ]
  },
  {
   "cell_type": "code",
   "execution_count": 2,
   "id": "4ca0bcd1",
   "metadata": {},
   "outputs": [],
   "source": [
    "b=np.array([[1,2], [3,4]])"
   ]
  },
  {
   "cell_type": "code",
   "execution_count": 3,
   "id": "6ba9c1e5",
   "metadata": {},
   "outputs": [
    {
     "data": {
      "text/plain": [
       "array([[1, 2],\n",
       "       [3, 4]])"
      ]
     },
     "execution_count": 3,
     "metadata": {},
     "output_type": "execute_result"
    }
   ],
   "source": [
    "b"
   ]
  },
  {
   "cell_type": "code",
   "execution_count": 4,
   "id": "1c208252",
   "metadata": {},
   "outputs": [
    {
     "data": {
      "text/plain": [
       "2"
      ]
     },
     "execution_count": 4,
     "metadata": {},
     "output_type": "execute_result"
    }
   ],
   "source": [
    "b.ndim   # stands for row and column"
   ]
  },
  {
   "cell_type": "code",
   "execution_count": 5,
   "id": "44c11398",
   "metadata": {},
   "outputs": [
    {
     "data": {
      "text/plain": [
       "(2, 2)"
      ]
     },
     "execution_count": 5,
     "metadata": {},
     "output_type": "execute_result"
    }
   ],
   "source": [
    "b.shape  # 2 rows and 2 column"
   ]
  },
  {
   "cell_type": "markdown",
   "id": "acf46b50",
   "metadata": {},
   "source": [
    "3 rows and 2 columns"
   ]
  },
  {
   "cell_type": "code",
   "execution_count": 6,
   "id": "26650d86",
   "metadata": {},
   "outputs": [],
   "source": [
    "c=np.array([[20,30],[40,50],[60,70]])"
   ]
  },
  {
   "cell_type": "code",
   "execution_count": 7,
   "id": "f200bb88",
   "metadata": {},
   "outputs": [
    {
     "data": {
      "text/plain": [
       "array([[20, 30],\n",
       "       [40, 50],\n",
       "       [60, 70]])"
      ]
     },
     "execution_count": 7,
     "metadata": {},
     "output_type": "execute_result"
    }
   ],
   "source": [
    "c"
   ]
  },
  {
   "cell_type": "code",
   "execution_count": 8,
   "id": "1bb78f8f",
   "metadata": {},
   "outputs": [
    {
     "data": {
      "text/plain": [
       "2"
      ]
     },
     "execution_count": 8,
     "metadata": {},
     "output_type": "execute_result"
    }
   ],
   "source": [
    "c.ndim"
   ]
  },
  {
   "cell_type": "code",
   "execution_count": 9,
   "id": "7fa1a4fb",
   "metadata": {},
   "outputs": [
    {
     "data": {
      "text/plain": [
       "(3, 2)"
      ]
     },
     "execution_count": 9,
     "metadata": {},
     "output_type": "execute_result"
    }
   ],
   "source": [
    "c.shape"
   ]
  },
  {
   "cell_type": "markdown",
   "id": "314e4006",
   "metadata": {},
   "source": [
    "rows and columns means 2 dimenstion"
   ]
  },
  {
   "cell_type": "markdown",
   "id": "6f0fad93",
   "metadata": {},
   "source": [
    "# Reshape"
   ]
  },
  {
   "cell_type": "code",
   "execution_count": 10,
   "id": "210767b1",
   "metadata": {},
   "outputs": [
    {
     "data": {
      "text/plain": [
       "array([[20, 30, 40],\n",
       "       [50, 60, 70]])"
      ]
     },
     "execution_count": 10,
     "metadata": {},
     "output_type": "execute_result"
    }
   ],
   "source": [
    "c.reshape(2,3) # 2 rows and 3 column"
   ]
  },
  {
   "cell_type": "markdown",
   "id": "2ff2bb0c",
   "metadata": {},
   "source": [
    "2 rows and 3 columns "
   ]
  },
  {
   "cell_type": "code",
   "execution_count": 11,
   "id": "05c3bd1b",
   "metadata": {},
   "outputs": [],
   "source": [
    "d=np.array([[11,12,13],[14,15,16]])"
   ]
  },
  {
   "cell_type": "code",
   "execution_count": 12,
   "id": "9d195970",
   "metadata": {},
   "outputs": [
    {
     "data": {
      "text/plain": [
       "array([[11, 12, 13],\n",
       "       [14, 15, 16]])"
      ]
     },
     "execution_count": 12,
     "metadata": {},
     "output_type": "execute_result"
    }
   ],
   "source": [
    "d"
   ]
  },
  {
   "cell_type": "code",
   "execution_count": 13,
   "id": "b9473d45",
   "metadata": {},
   "outputs": [
    {
     "data": {
      "text/plain": [
       "(2, 3)"
      ]
     },
     "execution_count": 13,
     "metadata": {},
     "output_type": "execute_result"
    }
   ],
   "source": [
    "d.shape"
   ]
  },
  {
   "cell_type": "code",
   "execution_count": 14,
   "id": "b502b23c",
   "metadata": {},
   "outputs": [
    {
     "data": {
      "text/plain": [
       "array([[11, 12],\n",
       "       [13, 14],\n",
       "       [15, 16]])"
      ]
     },
     "execution_count": 14,
     "metadata": {},
     "output_type": "execute_result"
    }
   ],
   "source": [
    "d.reshape(3,2)"
   ]
  },
  {
   "cell_type": "markdown",
   "id": "101285f2",
   "metadata": {},
   "source": [
    "4 rows and 4 column"
   ]
  },
  {
   "cell_type": "code",
   "execution_count": 15,
   "id": "0236e808",
   "metadata": {},
   "outputs": [],
   "source": [
    "e=np.array([[1,2,3,4],[5,6,7,8],[9,10,11,12],[13,14,15,16]])"
   ]
  },
  {
   "cell_type": "code",
   "execution_count": 16,
   "id": "5bbb2754",
   "metadata": {},
   "outputs": [
    {
     "data": {
      "text/plain": [
       "array([[ 1,  2,  3,  4],\n",
       "       [ 5,  6,  7,  8],\n",
       "       [ 9, 10, 11, 12],\n",
       "       [13, 14, 15, 16]])"
      ]
     },
     "execution_count": 16,
     "metadata": {},
     "output_type": "execute_result"
    }
   ],
   "source": [
    "e"
   ]
  },
  {
   "cell_type": "code",
   "execution_count": 17,
   "id": "52118bfe",
   "metadata": {},
   "outputs": [
    {
     "data": {
      "text/plain": [
       "(4, 4)"
      ]
     },
     "execution_count": 17,
     "metadata": {},
     "output_type": "execute_result"
    }
   ],
   "source": [
    "e.shape"
   ]
  },
  {
   "cell_type": "markdown",
   "id": "7dc87017",
   "metadata": {},
   "source": [
    "Array Range"
   ]
  },
  {
   "cell_type": "code",
   "execution_count": 18,
   "id": "bf9a8cef",
   "metadata": {},
   "outputs": [],
   "source": [
    "x=np.arange(15)"
   ]
  },
  {
   "cell_type": "code",
   "execution_count": 19,
   "id": "3acc64d9",
   "metadata": {},
   "outputs": [
    {
     "data": {
      "text/plain": [
       "array([ 0,  1,  2,  3,  4,  5,  6,  7,  8,  9, 10, 11, 12, 13, 14])"
      ]
     },
     "execution_count": 19,
     "metadata": {},
     "output_type": "execute_result"
    }
   ],
   "source": [
    "x"
   ]
  },
  {
   "cell_type": "code",
   "execution_count": 20,
   "id": "623eaac2",
   "metadata": {},
   "outputs": [],
   "source": [
    "e1=x.reshape(3,5)"
   ]
  },
  {
   "cell_type": "code",
   "execution_count": 21,
   "id": "f5c99651",
   "metadata": {},
   "outputs": [
    {
     "data": {
      "text/plain": [
       "array([[ 0,  1,  2,  3,  4],\n",
       "       [ 5,  6,  7,  8,  9],\n",
       "       [10, 11, 12, 13, 14]])"
      ]
     },
     "execution_count": 21,
     "metadata": {},
     "output_type": "execute_result"
    }
   ],
   "source": [
    "e1"
   ]
  },
  {
   "cell_type": "code",
   "execution_count": 22,
   "id": "744180d4",
   "metadata": {},
   "outputs": [],
   "source": [
    "ab=np.arange(35).reshape(5,7)"
   ]
  },
  {
   "cell_type": "code",
   "execution_count": 23,
   "id": "af9f6cb6",
   "metadata": {},
   "outputs": [
    {
     "data": {
      "text/plain": [
       "array([[ 0,  1,  2,  3,  4,  5,  6],\n",
       "       [ 7,  8,  9, 10, 11, 12, 13],\n",
       "       [14, 15, 16, 17, 18, 19, 20],\n",
       "       [21, 22, 23, 24, 25, 26, 27],\n",
       "       [28, 29, 30, 31, 32, 33, 34]])"
      ]
     },
     "execution_count": 23,
     "metadata": {},
     "output_type": "execute_result"
    }
   ],
   "source": [
    "ab"
   ]
  },
  {
   "cell_type": "code",
   "execution_count": 24,
   "id": "a5025475",
   "metadata": {},
   "outputs": [
    {
     "data": {
      "text/plain": [
       "(5, 7)"
      ]
     },
     "execution_count": 24,
     "metadata": {},
     "output_type": "execute_result"
    }
   ],
   "source": [
    "ab.shape"
   ]
  },
  {
   "cell_type": "code",
   "execution_count": 25,
   "id": "b804ff70",
   "metadata": {},
   "outputs": [
    {
     "data": {
      "text/plain": [
       "2"
      ]
     },
     "execution_count": 25,
     "metadata": {},
     "output_type": "execute_result"
    }
   ],
   "source": [
    "ab.ndim"
   ]
  },
  {
   "cell_type": "code",
   "execution_count": 26,
   "id": "0230c1bc",
   "metadata": {},
   "outputs": [
    {
     "data": {
      "text/plain": [
       "numpy.ndarray"
      ]
     },
     "execution_count": 26,
     "metadata": {},
     "output_type": "execute_result"
    }
   ],
   "source": [
    "type(ab)"
   ]
  },
  {
   "cell_type": "code",
   "execution_count": 27,
   "id": "944881ae",
   "metadata": {},
   "outputs": [],
   "source": [
    "import numpy as np"
   ]
  },
  {
   "cell_type": "code",
   "execution_count": 28,
   "id": "29c15078",
   "metadata": {},
   "outputs": [],
   "source": [
    "bc=np.array([[1.5,2,3],[4,5,6]], dtype='float32')"
   ]
  },
  {
   "cell_type": "code",
   "execution_count": 29,
   "id": "d6a45fd1",
   "metadata": {},
   "outputs": [
    {
     "data": {
      "text/plain": [
       "array([[1.5, 2. , 3. ],\n",
       "       [4. , 5. , 6. ]], dtype=float32)"
      ]
     },
     "execution_count": 29,
     "metadata": {},
     "output_type": "execute_result"
    }
   ],
   "source": [
    "bc"
   ]
  },
  {
   "cell_type": "code",
   "execution_count": 30,
   "id": "d83ac259",
   "metadata": {},
   "outputs": [],
   "source": [
    "cd=np.array([[34,78,89],[22,33,77]])"
   ]
  },
  {
   "cell_type": "code",
   "execution_count": 31,
   "id": "cada3a0f",
   "metadata": {},
   "outputs": [
    {
     "data": {
      "text/plain": [
       "array([[34, 78, 89],\n",
       "       [22, 33, 77]])"
      ]
     },
     "execution_count": 31,
     "metadata": {},
     "output_type": "execute_result"
    }
   ],
   "source": [
    "cd"
   ]
  },
  {
   "cell_type": "code",
   "execution_count": 32,
   "id": "b4f666f5",
   "metadata": {},
   "outputs": [
    {
     "name": "stdout",
     "output_type": "stream",
     "text": [
      "[34 78 89 22 33 77]\n"
     ]
    }
   ],
   "source": [
    "# ravel operation where you can convert one numpy array into a single row. i.e ravel\n",
    "\n",
    "print(cd.ravel())"
   ]
  },
  {
   "cell_type": "code",
   "execution_count": 33,
   "id": "74c7cf8f",
   "metadata": {},
   "outputs": [],
   "source": [
    "abc=np.array([[1.5,2,3],[4,5,6]], dtype='int32')"
   ]
  },
  {
   "cell_type": "code",
   "execution_count": 34,
   "id": "40d6592d",
   "metadata": {},
   "outputs": [
    {
     "data": {
      "text/plain": [
       "array([[1, 2, 3],\n",
       "       [4, 5, 6]])"
      ]
     },
     "execution_count": 34,
     "metadata": {},
     "output_type": "execute_result"
    }
   ],
   "source": [
    "abc"
   ]
  },
  {
   "cell_type": "code",
   "execution_count": 36,
   "id": "664920b6",
   "metadata": {},
   "outputs": [
    {
     "data": {
      "text/plain": [
       "array([[0., 0., 0., 0.],\n",
       "       [0., 0., 0., 0.],\n",
       "       [0., 0., 0., 0.]])"
      ]
     },
     "execution_count": 36,
     "metadata": {},
     "output_type": "execute_result"
    }
   ],
   "source": [
    "np.zeros([3,4])"
   ]
  },
  {
   "cell_type": "code",
   "execution_count": 37,
   "id": "2d961cc9",
   "metadata": {},
   "outputs": [
    {
     "data": {
      "text/plain": [
       "array([[1., 1., 1., 1.],\n",
       "       [1., 1., 1., 1.],\n",
       "       [1., 1., 1., 1.]])"
      ]
     },
     "execution_count": 37,
     "metadata": {},
     "output_type": "execute_result"
    }
   ],
   "source": [
    "np.ones([3,4])"
   ]
  },
  {
   "cell_type": "code",
   "execution_count": 38,
   "id": "20dc296d",
   "metadata": {},
   "outputs": [
    {
     "data": {
      "text/plain": [
       "array([0, 1, 2, 3, 4])"
      ]
     },
     "execution_count": 38,
     "metadata": {},
     "output_type": "execute_result"
    }
   ],
   "source": [
    "np.arange(5)"
   ]
  },
  {
   "cell_type": "code",
   "execution_count": 39,
   "id": "7a2ffa96",
   "metadata": {},
   "outputs": [
    {
     "data": {
      "text/plain": [
       "array([0, 1, 2, 3, 4, 5, 6, 7, 8, 9])"
      ]
     },
     "execution_count": 39,
     "metadata": {},
     "output_type": "execute_result"
    }
   ],
   "source": [
    "np.arange(0,10)"
   ]
  },
  {
   "cell_type": "code",
   "execution_count": 40,
   "id": "331db74a",
   "metadata": {},
   "outputs": [
    {
     "data": {
      "text/plain": [
       "array([0, 2, 4, 6, 8])"
      ]
     },
     "execution_count": 40,
     "metadata": {},
     "output_type": "execute_result"
    }
   ],
   "source": [
    "# start, end skip or jump\n",
    "\n",
    "np.arange(0,10,2)"
   ]
  },
  {
   "cell_type": "code",
   "execution_count": 43,
   "id": "748a4159",
   "metadata": {},
   "outputs": [
    {
     "data": {
      "text/plain": [
       "array([[ 0,  1,  2],\n",
       "       [ 3,  4,  5],\n",
       "       [ 6,  7,  8],\n",
       "       [ 9, 10, 11]])"
      ]
     },
     "execution_count": 43,
     "metadata": {},
     "output_type": "execute_result"
    }
   ],
   "source": [
    "ba=np.arange(12).reshape(4,3)\n",
    "ba"
   ]
  },
  {
   "cell_type": "markdown",
   "id": "7eb06f3b",
   "metadata": {},
   "source": [
    "# Broadcasting in numpy"
   ]
  },
  {
   "cell_type": "markdown",
   "id": "a5afa6b9",
   "metadata": {},
   "source": [
    "The term broadcasting describe how numpy treats array with different shape during arithmetic operations. Subject to certain constraints, the similar array is 'Broadcast' across the large array so that they have compatible shapes.\n",
    "Broadcasting provides a means of vectorizing array operations."
   ]
  },
  {
   "cell_type": "code",
   "execution_count": 1,
   "id": "2d1614c0",
   "metadata": {},
   "outputs": [],
   "source": [
    "import numpy as np"
   ]
  },
  {
   "cell_type": "code",
   "execution_count": 2,
   "id": "0f0ce2ce",
   "metadata": {},
   "outputs": [
    {
     "data": {
      "text/plain": [
       "array([2., 4., 6.])"
      ]
     },
     "execution_count": 2,
     "metadata": {},
     "output_type": "execute_result"
    }
   ],
   "source": [
    "x1=np.array([1.0,2.0,3.0])\n",
    "x2=np.array([2.0,2.0,2.0])\n",
    "x1*x2"
   ]
  },
  {
   "cell_type": "code",
   "execution_count": 4,
   "id": "749e46cb",
   "metadata": {},
   "outputs": [
    {
     "data": {
      "text/plain": [
       "array([2., 4., 6.])"
      ]
     },
     "execution_count": 4,
     "metadata": {},
     "output_type": "execute_result"
    }
   ],
   "source": [
    "x3=np.array([1.0,2.0,3.0])\n",
    "x4=2.0\n",
    "x3*x4"
   ]
  },
  {
   "cell_type": "code",
   "execution_count": 6,
   "id": "b559a1fe",
   "metadata": {},
   "outputs": [
    {
     "name": "stdout",
     "output_type": "stream",
     "text": [
      "[20 30 40 50]\n",
      "[0 1 2 3]\n"
     ]
    }
   ],
   "source": [
    "x5=np.array([20,30,40,50])\n",
    "x6=np.arange(4)\n",
    "print(x5)\n",
    "print(x6)"
   ]
  },
  {
   "cell_type": "code",
   "execution_count": 7,
   "id": "979ae8ea",
   "metadata": {},
   "outputs": [
    {
     "name": "stdout",
     "output_type": "stream",
     "text": [
      "[20 29 38 47]\n"
     ]
    }
   ],
   "source": [
    "abc=x5-x6\n",
    "print(abc)"
   ]
  },
  {
   "cell_type": "code",
   "execution_count": 8,
   "id": "3eee07a9",
   "metadata": {},
   "outputs": [
    {
     "data": {
      "text/plain": [
       "array([0, 1, 4, 9], dtype=int32)"
      ]
     },
     "execution_count": 8,
     "metadata": {},
     "output_type": "execute_result"
    }
   ],
   "source": [
    "\n",
    "x6**2"
   ]
  },
  {
   "cell_type": "code",
   "execution_count": 9,
   "id": "54d07055",
   "metadata": {},
   "outputs": [
    {
     "data": {
      "text/plain": [
       "array([ 400,  900, 1600, 2500], dtype=int32)"
      ]
     },
     "execution_count": 9,
     "metadata": {},
     "output_type": "execute_result"
    }
   ],
   "source": [
    "x5**2"
   ]
  },
  {
   "cell_type": "code",
   "execution_count": 10,
   "id": "0761d36b",
   "metadata": {},
   "outputs": [],
   "source": [
    "# random means any system generated data\n",
    "\n",
    "z1=np.random.random([2,3])"
   ]
  },
  {
   "cell_type": "code",
   "execution_count": 11,
   "id": "86259d44",
   "metadata": {},
   "outputs": [
    {
     "data": {
      "text/plain": [
       "array([[0.48903676, 0.52648722, 0.81844669],\n",
       "       [0.31102497, 0.98017973, 0.8459029 ]])"
      ]
     },
     "execution_count": 11,
     "metadata": {},
     "output_type": "execute_result"
    }
   ],
   "source": [
    "z1"
   ]
  },
  {
   "cell_type": "code",
   "execution_count": 12,
   "id": "15edf82d",
   "metadata": {},
   "outputs": [],
   "source": [
    "y=x5+x6"
   ]
  },
  {
   "cell_type": "code",
   "execution_count": 13,
   "id": "489893ce",
   "metadata": {},
   "outputs": [
    {
     "data": {
      "text/plain": [
       "array([20, 31, 42, 53])"
      ]
     },
     "execution_count": 13,
     "metadata": {},
     "output_type": "execute_result"
    }
   ],
   "source": [
    "y"
   ]
  },
  {
   "cell_type": "code",
   "execution_count": 17,
   "id": "7d17f2f0",
   "metadata": {},
   "outputs": [
    {
     "data": {
      "text/plain": [
       "array([[1., 1., 1.],\n",
       "       [1., 1., 1.]])"
      ]
     },
     "execution_count": 17,
     "metadata": {},
     "output_type": "execute_result"
    }
   ],
   "source": [
    "y3=np.ones([2,3])\n",
    "y3"
   ]
  },
  {
   "cell_type": "code",
   "execution_count": 19,
   "id": "ef602676",
   "metadata": {},
   "outputs": [
    {
     "data": {
      "text/plain": [
       "array([[2., 2., 2.],\n",
       "       [2., 2., 2.]])"
      ]
     },
     "execution_count": 19,
     "metadata": {},
     "output_type": "execute_result"
    }
   ],
   "source": [
    "y4=z1+y3\n",
    "y4"
   ]
  },
  {
   "cell_type": "markdown",
   "id": "688a9592",
   "metadata": {},
   "source": [
    "# UNIVERSAL FUNCTION"
   ]
  },
  {
   "cell_type": "code",
   "execution_count": 20,
   "id": "b2aa033e",
   "metadata": {},
   "outputs": [],
   "source": [
    "y5=np.arange(3)"
   ]
  },
  {
   "cell_type": "code",
   "execution_count": 21,
   "id": "8b407dfe",
   "metadata": {},
   "outputs": [
    {
     "data": {
      "text/plain": [
       "array([0, 1, 2])"
      ]
     },
     "execution_count": 21,
     "metadata": {},
     "output_type": "execute_result"
    }
   ],
   "source": [
    "y5"
   ]
  },
  {
   "cell_type": "code",
   "execution_count": 22,
   "id": "6402a416",
   "metadata": {},
   "outputs": [
    {
     "data": {
      "text/plain": [
       "array([1.        , 2.71828183, 7.3890561 ])"
      ]
     },
     "execution_count": 22,
     "metadata": {},
     "output_type": "execute_result"
    }
   ],
   "source": [
    "# exponent\n",
    "\n",
    "np.exp(y5)"
   ]
  },
  {
   "cell_type": "code",
   "execution_count": 23,
   "id": "07a97aaf",
   "metadata": {},
   "outputs": [
    {
     "data": {
      "text/plain": [
       "array([0.        , 1.        , 1.41421356])"
      ]
     },
     "execution_count": 23,
     "metadata": {},
     "output_type": "execute_result"
    }
   ],
   "source": [
    "np.sqrt(y5)"
   ]
  },
  {
   "cell_type": "code",
   "execution_count": 24,
   "id": "276ba456",
   "metadata": {},
   "outputs": [
    {
     "data": {
      "text/plain": [
       "array([4, 5, 6])"
      ]
     },
     "execution_count": 24,
     "metadata": {},
     "output_type": "execute_result"
    }
   ],
   "source": [
    "y6=np.array([4,5,6])\n",
    "y6"
   ]
  },
  {
   "cell_type": "code",
   "execution_count": 25,
   "id": "184c6c29",
   "metadata": {},
   "outputs": [
    {
     "data": {
      "text/plain": [
       "array([4, 6, 8])"
      ]
     },
     "execution_count": 25,
     "metadata": {},
     "output_type": "execute_result"
    }
   ],
   "source": [
    "np.add(y5,y6)"
   ]
  },
  {
   "cell_type": "markdown",
   "id": "f79011f3",
   "metadata": {},
   "source": [
    "# INDEXING, SLICING AND ITERATING"
   ]
  },
  {
   "cell_type": "code",
   "execution_count": 26,
   "id": "840056f2",
   "metadata": {},
   "outputs": [],
   "source": [
    "import numpy as np"
   ]
  },
  {
   "cell_type": "code",
   "execution_count": 27,
   "id": "54e26e05",
   "metadata": {},
   "outputs": [],
   "source": [
    "a=np.arange(10)"
   ]
  },
  {
   "cell_type": "code",
   "execution_count": 28,
   "id": "fd4ca6b8",
   "metadata": {},
   "outputs": [
    {
     "data": {
      "text/plain": [
       "array([0, 1, 2, 3, 4, 5, 6, 7, 8, 9])"
      ]
     },
     "execution_count": 28,
     "metadata": {},
     "output_type": "execute_result"
    }
   ],
   "source": [
    "a"
   ]
  },
  {
   "cell_type": "code",
   "execution_count": 29,
   "id": "b47282aa",
   "metadata": {},
   "outputs": [
    {
     "data": {
      "text/plain": [
       "2"
      ]
     },
     "execution_count": 29,
     "metadata": {},
     "output_type": "execute_result"
    }
   ],
   "source": [
    "a[2]"
   ]
  },
  {
   "cell_type": "code",
   "execution_count": 30,
   "id": "21933dc1",
   "metadata": {},
   "outputs": [
    {
     "data": {
      "text/plain": [
       "array([2, 3, 4])"
      ]
     },
     "execution_count": 30,
     "metadata": {},
     "output_type": "execute_result"
    }
   ],
   "source": [
    "a[2:5]"
   ]
  },
  {
   "cell_type": "code",
   "execution_count": 31,
   "id": "84190ae0",
   "metadata": {},
   "outputs": [
    {
     "data": {
      "text/plain": [
       "9"
      ]
     },
     "execution_count": 31,
     "metadata": {},
     "output_type": "execute_result"
    }
   ],
   "source": [
    "a[-1]"
   ]
  },
  {
   "cell_type": "code",
   "execution_count": 32,
   "id": "0c82b9fa",
   "metadata": {},
   "outputs": [
    {
     "data": {
      "text/plain": [
       "8"
      ]
     },
     "execution_count": 32,
     "metadata": {},
     "output_type": "execute_result"
    }
   ],
   "source": [
    "a[-2]"
   ]
  },
  {
   "cell_type": "code",
   "execution_count": 34,
   "id": "fec1fb9e",
   "metadata": {},
   "outputs": [
    {
     "data": {
      "text/plain": [
       "7"
      ]
     },
     "execution_count": 34,
     "metadata": {},
     "output_type": "execute_result"
    }
   ],
   "source": [
    "a[-3]"
   ]
  },
  {
   "cell_type": "code",
   "execution_count": 35,
   "id": "4201acc6",
   "metadata": {},
   "outputs": [
    {
     "data": {
      "text/plain": [
       "array([0, 1, 2, 3, 4, 5, 6, 7, 8, 9])"
      ]
     },
     "execution_count": 35,
     "metadata": {},
     "output_type": "execute_result"
    }
   ],
   "source": [
    "a"
   ]
  },
  {
   "cell_type": "code",
   "execution_count": 36,
   "id": "2a9782c7",
   "metadata": {},
   "outputs": [
    {
     "data": {
      "text/plain": [
       "array([6, 7, 8, 9])"
      ]
     },
     "execution_count": 36,
     "metadata": {},
     "output_type": "execute_result"
    }
   ],
   "source": [
    "a[-4:]"
   ]
  },
  {
   "cell_type": "code",
   "execution_count": 37,
   "id": "1be0db00",
   "metadata": {},
   "outputs": [
    {
     "data": {
      "text/plain": [
       "array([6, 7])"
      ]
     },
     "execution_count": 37,
     "metadata": {},
     "output_type": "execute_result"
    }
   ],
   "source": [
    "a[-4:-2]"
   ]
  },
  {
   "cell_type": "code",
   "execution_count": 38,
   "id": "3355f0a1",
   "metadata": {},
   "outputs": [
    {
     "data": {
      "text/plain": [
       "array([ 0,  1,  2,  3,  4,  5,  6,  7,  8,  9, 10, 11, 12, 13, 14, 15, 16,\n",
       "       17, 18, 19])"
      ]
     },
     "execution_count": 38,
     "metadata": {},
     "output_type": "execute_result"
    }
   ],
   "source": [
    "ab=np.arange(20)\n",
    "ab"
   ]
  },
  {
   "cell_type": "code",
   "execution_count": 39,
   "id": "fda802ad",
   "metadata": {},
   "outputs": [
    {
     "data": {
      "text/plain": [
       "array([ 5,  6,  7,  8,  9, 10, 11, 12, 13, 14, 15, 16, 17, 18, 19])"
      ]
     },
     "execution_count": 39,
     "metadata": {},
     "output_type": "execute_result"
    }
   ],
   "source": [
    "ab[5:]"
   ]
  },
  {
   "cell_type": "code",
   "execution_count": 40,
   "id": "57fba938",
   "metadata": {},
   "outputs": [
    {
     "data": {
      "text/plain": [
       "array([nan,  1.,  2.,  3., nan,  6.,  7.,  8.])"
      ]
     },
     "execution_count": 40,
     "metadata": {},
     "output_type": "execute_result"
    }
   ],
   "source": [
    "bc=np.array([np.nan, 1,2,3,np.nan,6,7,8])  # nan---> missing data\n",
    "bc"
   ]
  },
  {
   "cell_type": "markdown",
   "id": "d35d8d45",
   "metadata": {},
   "source": [
    "\n",
    "The random module provides nice function to generate random nunbers(and also statistical distributions)of any given shape.\n",
    "Rand function will generate any number b/w 0 and 1"
   ]
  },
  {
   "cell_type": "code",
   "execution_count": 41,
   "id": "365ca9d1",
   "metadata": {},
   "outputs": [
    {
     "data": {
      "text/plain": [
       "array([[0.46157553, 0.53144248],\n",
       "       [0.27367581, 0.44567155]])"
      ]
     },
     "execution_count": 41,
     "metadata": {},
     "output_type": "execute_result"
    }
   ],
   "source": [
    "np.random.rand(2,2)  # uniform distributions-------> similar like random"
   ]
  },
  {
   "cell_type": "markdown",
   "id": "b1005be7",
   "metadata": {},
   "source": [
    "\n",
    "\n",
    "Randn will generate any number for normal distribution in the given dimention format"
   ]
  },
  {
   "cell_type": "code",
   "execution_count": 42,
   "id": "a6b67d44",
   "metadata": {},
   "outputs": [
    {
     "data": {
      "text/plain": [
       "array([[-1.25711164,  0.97707653,  0.07506362],\n",
       "       [-1.34710798, -0.35491985,  1.34270522]])"
      ]
     },
     "execution_count": 42,
     "metadata": {},
     "output_type": "execute_result"
    }
   ],
   "source": [
    "np.random.randn(2,3)"
   ]
  },
  {
   "cell_type": "markdown",
   "id": "6ae372ca",
   "metadata": {},
   "source": [
    "random, (0--1)\n",
    "       <------------> similar\n",
    "rand, (0--1)\n",
    "\n",
    "randn---> gives some (+ve) data or some (-ve) data\n"
   ]
  },
  {
   "cell_type": "markdown",
   "id": "40b17b8d",
   "metadata": {},
   "source": [
    "# DONE WITH NUMPY\n",
    "\n",
    " ------ END----- "
   ]
  },
  {
   "cell_type": "code",
   "execution_count": null,
   "id": "22e762b0",
   "metadata": {},
   "outputs": [],
   "source": []
  }
 ],
 "metadata": {
  "kernelspec": {
   "display_name": "Python 3 (ipykernel)",
   "language": "python",
   "name": "python3"
  },
  "language_info": {
   "codemirror_mode": {
    "name": "ipython",
    "version": 3
   },
   "file_extension": ".py",
   "mimetype": "text/x-python",
   "name": "python",
   "nbconvert_exporter": "python",
   "pygments_lexer": "ipython3",
   "version": "3.9.7"
  }
 },
 "nbformat": 4,
 "nbformat_minor": 5
}
