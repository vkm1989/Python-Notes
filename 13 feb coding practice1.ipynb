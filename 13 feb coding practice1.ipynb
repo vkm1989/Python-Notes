{
 "cells": [
  {
   "cell_type": "markdown",
   "id": "eb55f8f8",
   "metadata": {},
   "source": [
    "# Enumerate"
   ]
  },
  {
   "cell_type": "code",
   "execution_count": 3,
   "id": "65529d90",
   "metadata": {},
   "outputs": [],
   "source": [
    "# It assign an index number\n",
    "\n",
    "students=['naveen','Ratna','vivaan']\n"
   ]
  },
  {
   "cell_type": "code",
   "execution_count": 4,
   "id": "af9eb748",
   "metadata": {},
   "outputs": [
    {
     "name": "stdout",
     "output_type": "stream",
     "text": [
      "(0, 'naveen')\n",
      "(1, 'Ratna')\n",
      "(2, 'vivaan')\n"
     ]
    }
   ],
   "source": [
    "for name in enumerate(students):\n",
    "    print(name)"
   ]
  },
  {
   "cell_type": "code",
   "execution_count": 8,
   "id": "10cb4ad6",
   "metadata": {},
   "outputs": [
    {
     "name": "stdout",
     "output_type": "stream",
     "text": [
      "14 naveen\n",
      "15 Ratna\n",
      "16 vivaan\n"
     ]
    }
   ],
   "source": [
    "#you can start index from any number\n",
    "\n",
    "for i,name in enumerate(students,14):\n",
    "    print(i,name)"
   ]
  },
  {
   "cell_type": "markdown",
   "id": "04cb4660",
   "metadata": {},
   "source": [
    "# ZIP"
   ]
  },
  {
   "cell_type": "code",
   "execution_count": 3,
   "id": "ef3b392c",
   "metadata": {},
   "outputs": [
    {
     "data": {
      "text/plain": [
       "[('N', 53), ('R', 74), ('V', 62), ('S', 81), ('C', 55)]"
      ]
     },
     "execution_count": 3,
     "metadata": {},
     "output_type": "execute_result"
    }
   ],
   "source": [
    "# Zip the data\n",
    "\n",
    "student_name=['N','R','V','S','C']\n",
    "student_marks=[53,74,62,81,55]\n",
    "\n",
    "student_details=list(zip(student_name,student_marks)) # convert into list\n",
    "student_details"
   ]
  },
  {
   "cell_type": "markdown",
   "id": "579eefcb",
   "metadata": {},
   "source": [
    "# Unzip"
   ]
  },
  {
   "cell_type": "code",
   "execution_count": 4,
   "id": "3a47145c",
   "metadata": {},
   "outputs": [],
   "source": [
    "name,marks_num=zip(*student_details)"
   ]
  },
  {
   "cell_type": "code",
   "execution_count": 5,
   "id": "9ac90192",
   "metadata": {},
   "outputs": [
    {
     "data": {
      "text/plain": [
       "('N', 'R', 'V', 'S', 'C')"
      ]
     },
     "execution_count": 5,
     "metadata": {},
     "output_type": "execute_result"
    }
   ],
   "source": [
    "name"
   ]
  },
  {
   "cell_type": "code",
   "execution_count": 6,
   "id": "927ee253",
   "metadata": {},
   "outputs": [
    {
     "data": {
      "text/plain": [
       "(53, 74, 62, 81, 55)"
      ]
     },
     "execution_count": 6,
     "metadata": {},
     "output_type": "execute_result"
    }
   ],
   "source": [
    "marks_num"
   ]
  },
  {
   "cell_type": "markdown",
   "id": "cf5471fb",
   "metadata": {},
   "source": [
    "# Enumerate and Zip"
   ]
  },
  {
   "cell_type": "code",
   "execution_count": 14,
   "id": "7d1f5cc2",
   "metadata": {},
   "outputs": [
    {
     "name": "stdout",
     "output_type": "stream",
     "text": [
      "1 N 53\n",
      "2 R 74\n",
      "3 V 62\n",
      "4 S 81\n",
      "5 C 55\n"
     ]
    }
   ],
   "source": [
    "student_name=['N','R','V','S','C']\n",
    "student_marks=[53,74,62,81,55]\n",
    "for i,(name,marks)in enumerate(zip(student_name,student_marks),1):\n",
    "    print(i,name,marks)"
   ]
  },
  {
   "cell_type": "markdown",
   "id": "b3ceb195",
   "metadata": {},
   "source": [
    "# Break and continue"
   ]
  },
  {
   "cell_type": "code",
   "execution_count": 26,
   "id": "435fe9de",
   "metadata": {},
   "outputs": [
    {
     "name": "stdout",
     "output_type": "stream",
     "text": [
      "beng\n"
     ]
    }
   ],
   "source": [
    "city=['beng','del','noida']\n",
    "\n",
    "for val in city:\n",
    "    if val==\"del\":\n",
    "        break\n",
    "    print(val)"
   ]
  },
  {
   "cell_type": "code",
   "execution_count": 28,
   "id": "9f7962ef",
   "metadata": {},
   "outputs": [
    {
     "name": "stdout",
     "output_type": "stream",
     "text": [
      "2000\n",
      "3000\n"
     ]
    }
   ],
   "source": [
    "salary=[2000,3000,5000,5500,6000]\n",
    "\n",
    "for val in salary:\n",
    "    if val>4600:\n",
    "        break\n",
    "    print(val)"
   ]
  },
  {
   "cell_type": "code",
   "execution_count": 30,
   "id": "b5079f71",
   "metadata": {},
   "outputs": [
    {
     "name": "stdout",
     "output_type": "stream",
     "text": [
      "beng\n",
      "noida\n",
      "aligarh\n"
     ]
    }
   ],
   "source": [
    "city=['beng','del','noida','aligarh']\n",
    "\n",
    "for val in city:\n",
    "    if val==\"del\":\n",
    "        continue\n",
    "    print(val)"
   ]
  },
  {
   "cell_type": "code",
   "execution_count": 34,
   "id": "4142d708",
   "metadata": {},
   "outputs": [
    {
     "name": "stdout",
     "output_type": "stream",
     "text": [
      "2000\n",
      "3000\n",
      "5000\n",
      "5500\n",
      "6000\n"
     ]
    }
   ],
   "source": [
    "salary=[2000,3000,5000,5500,6000]\n",
    "\n",
    "for val in salary:\n",
    "    if val>6000:\n",
    "        continue\n",
    "    print(val)"
   ]
  },
  {
   "cell_type": "markdown",
   "id": "db2cc467",
   "metadata": {},
   "source": [
    "# range() function"
   ]
  },
  {
   "cell_type": "code",
   "execution_count": 35,
   "id": "3c27c140",
   "metadata": {},
   "outputs": [
    {
     "name": "stdout",
     "output_type": "stream",
     "text": [
      "range(0, 10)\n"
     ]
    }
   ],
   "source": [
    "print(range(10))"
   ]
  },
  {
   "cell_type": "code",
   "execution_count": 36,
   "id": "525af4e5",
   "metadata": {},
   "outputs": [
    {
     "name": "stdout",
     "output_type": "stream",
     "text": [
      "[0, 1, 2, 3, 4, 5, 6, 7, 8, 9]\n"
     ]
    }
   ],
   "source": [
    "print(list(range(10)))"
   ]
  },
  {
   "cell_type": "code",
   "execution_count": 37,
   "id": "402b79ab",
   "metadata": {},
   "outputs": [],
   "source": [
    "roll_numbers=list(range(1,8))"
   ]
  },
  {
   "cell_type": "code",
   "execution_count": 38,
   "id": "f31f485d",
   "metadata": {},
   "outputs": [
    {
     "data": {
      "text/plain": [
       "[1, 2, 3, 4, 5, 6, 7]"
      ]
     },
     "execution_count": 38,
     "metadata": {},
     "output_type": "execute_result"
    }
   ],
   "source": [
    "roll_numbers"
   ]
  },
  {
   "cell_type": "code",
   "execution_count": 39,
   "id": "e8db6429",
   "metadata": {},
   "outputs": [
    {
     "data": {
      "text/plain": [
       "[0, 3, 6, 9, 12, 15, 18, 21, 24, 27, 30]"
      ]
     },
     "execution_count": 39,
     "metadata": {},
     "output_type": "execute_result"
    }
   ],
   "source": [
    "step_size=list(range(0,31,3))\n",
    "step_size"
   ]
  },
  {
   "cell_type": "code",
   "execution_count": 40,
   "id": "6682f9af",
   "metadata": {},
   "outputs": [
    {
     "data": {
      "text/plain": [
       "[100,\n",
       " 200,\n",
       " 300,\n",
       " 400,\n",
       " 500,\n",
       " 600,\n",
       " 700,\n",
       " 800,\n",
       " 900,\n",
       " 1000,\n",
       " 1100,\n",
       " 1200,\n",
       " 1300,\n",
       " 1400,\n",
       " 1500]"
      ]
     },
     "execution_count": 40,
     "metadata": {},
     "output_type": "execute_result"
    }
   ],
   "source": [
    "incr_by_hun=list(range(100,1600,100))\n",
    "incr_by_hun"
   ]
  },
  {
   "cell_type": "code",
   "execution_count": 41,
   "id": "ede246ad",
   "metadata": {},
   "outputs": [
    {
     "data": {
      "text/plain": [
       "[1600,\n",
       " 1500,\n",
       " 1400,\n",
       " 1300,\n",
       " 1200,\n",
       " 1100,\n",
       " 1000,\n",
       " 900,\n",
       " 800,\n",
       " 700,\n",
       " 600,\n",
       " 500,\n",
       " 400,\n",
       " 300,\n",
       " 200]"
      ]
     },
     "execution_count": 41,
     "metadata": {},
     "output_type": "execute_result"
    }
   ],
   "source": [
    "reverse=list(range(1600,100,-100))\n",
    "reverse"
   ]
  },
  {
   "cell_type": "markdown",
   "id": "980f28dc",
   "metadata": {},
   "source": [
    "# Functions"
   ]
  },
  {
   "cell_type": "code",
   "execution_count": 42,
   "id": "7514995f",
   "metadata": {},
   "outputs": [],
   "source": [
    "#simple print hello function\n",
    "\n",
    "def say_hello():# user define function, no arguments\n",
    "    print('This is just a sample')"
   ]
  },
  {
   "cell_type": "code",
   "execution_count": 44,
   "id": "14f58666",
   "metadata": {},
   "outputs": [
    {
     "name": "stdout",
     "output_type": "stream",
     "text": [
      "This is just a sample\n"
     ]
    }
   ],
   "source": [
    "# call function any where\n",
    "say_hello()"
   ]
  },
  {
   "cell_type": "code",
   "execution_count": 47,
   "id": "926a02c8",
   "metadata": {},
   "outputs": [],
   "source": [
    "# a simple greeting function one argument\n",
    "\n",
    "def greeting(name):\n",
    "    print('hello',name)\n",
    "    print('hello %s' %name)# join string"
   ]
  },
  {
   "cell_type": "code",
   "execution_count": 48,
   "id": "dce23f3a",
   "metadata": {},
   "outputs": [
    {
     "name": "stdout",
     "output_type": "stream",
     "text": [
      "hello dear students\n",
      "hello dear students\n"
     ]
    }
   ],
   "source": [
    "greeting('dear students')"
   ]
  },
  {
   "cell_type": "code",
   "execution_count": 4,
   "id": "610a88c3",
   "metadata": {},
   "outputs": [],
   "source": [
    "# using return\n",
    "# salary update example without return\n",
    "\n",
    "def salary_incr(salary):\n",
    "    \n",
    "    if salary <=9000:\n",
    "        (salary+1000)\n",
    "    else:\n",
    "        salary\n",
    "        \n",
    "            \n",
    "        \n",
    "        "
   ]
  },
  {
   "cell_type": "code",
   "execution_count": 2,
   "id": "5c278da3",
   "metadata": {},
   "outputs": [
    {
     "name": "stdout",
     "output_type": "stream",
     "text": [
      "your new salary= None\n"
     ]
    }
   ],
   "source": [
    "print('your new salary=', salary_incr(1500))"
   ]
  },
  {
   "cell_type": "code",
   "execution_count": 15,
   "id": "9bca8541",
   "metadata": {},
   "outputs": [],
   "source": [
    "# with return\n",
    "\n",
    "def salary_incr(salary):\n",
    "    \n",
    "    if salary <=9000:\n",
    "        return(salary+1000)\n",
    "    else:\n",
    "        return salary\n"
   ]
  },
  {
   "cell_type": "code",
   "execution_count": 16,
   "id": "05ac0036",
   "metadata": {},
   "outputs": [
    {
     "name": "stdout",
     "output_type": "stream",
     "text": [
      "your new salary= 2500\n"
     ]
    }
   ],
   "source": [
    "print('your new salary=', salary_incr(1500))"
   ]
  },
  {
   "cell_type": "code",
   "execution_count": 9,
   "id": "944635ea",
   "metadata": {},
   "outputs": [],
   "source": [
    "# with multiple arguments(adding student marks)\n",
    "\n",
    "def student_marks(math,science,english):\n",
    "    return(math+science+english)\n"
   ]
  },
  {
   "cell_type": "code",
   "execution_count": 10,
   "id": "32953e45",
   "metadata": {},
   "outputs": [
    {
     "name": "stdout",
     "output_type": "stream",
     "text": [
      "your total marks= 150\n"
     ]
    }
   ],
   "source": [
    "print('your total marks=', student_marks(55,45,50))"
   ]
  },
  {
   "cell_type": "code",
   "execution_count": 11,
   "id": "0e2fdf62",
   "metadata": {},
   "outputs": [
    {
     "data": {
      "text/plain": [
       "210"
      ]
     },
     "execution_count": 11,
     "metadata": {},
     "output_type": "execute_result"
    }
   ],
   "source": [
    "# store total marks\n",
    "\n",
    "total_marks=student_marks(80,50,80)\n",
    "total_marks"
   ]
  },
  {
   "cell_type": "code",
   "execution_count": 12,
   "id": "be7329a7",
   "metadata": {},
   "outputs": [
    {
     "name": "stdout",
     "output_type": "stream",
     "text": [
      "Total Marks= 210 \n",
      "perc= 70.0 %\n"
     ]
    }
   ],
   "source": [
    "print('Total Marks=' , total_marks,'\\nperc=',total_marks/3,'%')"
   ]
  },
  {
   "cell_type": "code",
   "execution_count": 16,
   "id": "7c01627a",
   "metadata": {},
   "outputs": [
    {
     "name": "stdout",
     "output_type": "stream",
     "text": [
      "370 - distinction\n"
     ]
    }
   ],
   "source": [
    "# change every time\n",
    "total_marks=student_marks(320,30,20)\n",
    "if total_marks<90:\n",
    "    print(total_marks, '- you are fail')\n",
    "elif total_marks>90 and total_marks<150:\n",
    "        print(total_marks, '- pass')\n",
    "elif total_marks>151 and total_marks<250:\n",
    "            print(total_marks, '- First class')\n",
    "else:\n",
    "                print(total_marks, '- distinction')"
   ]
  },
  {
   "cell_type": "code",
   "execution_count": 66,
   "id": "112cc0ff",
   "metadata": {},
   "outputs": [],
   "source": [
    "# how it works real time\n",
    "\n",
    "def phone_price(phone_maker, phone_age, phone_model_gb):\n",
    "    if phone_maker=='iPHONE 11':\n",
    "        if 0<phone_age<=6:\n",
    "            if phone_model_gb==64:\n",
    "                print('Rs 40000 -Rs 42000')\n",
    "    elif phone_model_gb==128:\n",
    "                    print('Rs 45000 - Rs 50000')\n",
    "                    if 6<phone_age<=12:\n",
    "                        if phone_model_gb==64:\n",
    "                            print('Rs 30000 - Rs 35000')\n",
    "                        elif phone_model_gb==128:\n",
    "                            print('Rs 37000 - Rs 40000')\n",
    "    elif phone_maker=='Samsung B110': \n",
    "                                if 0<phone_age<=6:\n",
    "                                    print('Rs 800 - Rs 900')\n",
    "                                elif 6<phone_age<=12:\n",
    "                                        print('Rs 700 - Rs750')\n",
    "                                \n",
    "                            \n",
    "                            "
   ]
  },
  {
   "cell_type": "code",
   "execution_count": 70,
   "id": "e847f815",
   "metadata": {},
   "outputs": [
    {
     "name": "stdout",
     "output_type": "stream",
     "text": [
      "Rs 700 - Rs750\n"
     ]
    }
   ],
   "source": [
    "phone_price('Samsung B110',12,0)"
   ]
  },
  {
   "cell_type": "code",
   "execution_count": 72,
   "id": "5544a1a8",
   "metadata": {},
   "outputs": [],
   "source": [
    "# creating a function to chek if a number is even, if even then square, it else print its not even number\n",
    "\n",
    "def sqre(number):\n",
    "    for n in range(2,number):\n",
    "        if n%2==0: # % modular which return remaining number\n",
    "            print('square:', n**2)\n",
    "        else:\n",
    "                print('It is an odd number:',n)"
   ]
  },
  {
   "cell_type": "code",
   "execution_count": 73,
   "id": "3e99e99e",
   "metadata": {},
   "outputs": [
    {
     "name": "stdout",
     "output_type": "stream",
     "text": [
      "square: 4\n",
      "It is an odd number: 3\n",
      "square: 16\n",
      "It is an odd number: 5\n"
     ]
    }
   ],
   "source": [
    "sqre(6)"
   ]
  },
  {
   "cell_type": "markdown",
   "id": "3a5646f7",
   "metadata": {},
   "source": [
    "# LAMBDA FUNCTION"
   ]
  },
  {
   "cell_type": "markdown",
   "id": "9a3b0299",
   "metadata": {},
   "source": [
    "lambda arguments : Expression"
   ]
  },
  {
   "cell_type": "code",
   "execution_count": 74,
   "id": "3772b53e",
   "metadata": {},
   "outputs": [
    {
     "name": "stdout",
     "output_type": "stream",
     "text": [
      "80\n"
     ]
    }
   ],
   "source": [
    "add_num=lambda y : y+30\n",
    "print(add_num(50))"
   ]
  },
  {
   "cell_type": "code",
   "execution_count": 75,
   "id": "805038b6",
   "metadata": {},
   "outputs": [
    {
     "name": "stdout",
     "output_type": "stream",
     "text": [
      "300\n"
     ]
    }
   ],
   "source": [
    "# multiple arguments\n",
    "\n",
    "multi_num=lambda a,b : a*b\n",
    "print(multi_num(15,20))"
   ]
  },
  {
   "cell_type": "markdown",
   "id": "9be48db6",
   "metadata": {},
   "source": [
    "# args and kwargs"
   ]
  },
  {
   "cell_type": "markdown",
   "id": "a1ee8d05",
   "metadata": {},
   "source": [
    "*args take multiple inputs\n",
    "*args- you can gave any data or many numbers of data or arguments"
   ]
  },
  {
   "cell_type": "code",
   "execution_count": null,
   "id": "334a882b",
   "metadata": {},
   "outputs": [],
   "source": [
    "def my_fun(*args):\n",
    "    for i in args:\n",
    "        print('my ags:-',i)"
   ]
  },
  {
   "cell_type": "code",
   "execution_count": 77,
   "id": "d300f1c6",
   "metadata": {},
   "outputs": [
    {
     "name": "stdout",
     "output_type": "stream",
     "text": [
      "my ags:- India\n",
      "my ags:- 56\n",
      "my ags:- Delhi\n",
      "my ags:- 30.4\n",
      "my ags:- 234\n"
     ]
    }
   ],
   "source": [
    "my_fun('India',56,'Delhi',30.40, 234)"
   ]
  },
  {
   "cell_type": "markdown",
   "id": "e36087a3",
   "metadata": {},
   "source": [
    "**kwargs take key and value, just like dictionary data. KWARGS - key word arguments "
   ]
  },
  {
   "cell_type": "code",
   "execution_count": 80,
   "id": "321bdba8",
   "metadata": {},
   "outputs": [],
   "source": [
    "def my_kwargs(**kwargs):\n",
    "    for key,value in kwargs.items():\n",
    "        print(key,value)"
   ]
  },
  {
   "cell_type": "code",
   "execution_count": 81,
   "id": "c4e02b1a",
   "metadata": {},
   "outputs": [
    {
     "name": "stdout",
     "output_type": "stream",
     "text": [
      "students ['Ram', 'Shiva']\n",
      "marks [70, 75]\n"
     ]
    }
   ],
   "source": [
    "my_kwargs(students=['Ram','Shiva'],marks=[70,75])"
   ]
  },
  {
   "cell_type": "markdown",
   "id": "87e61034",
   "metadata": {},
   "source": [
    "# STRING INDEXING"
   ]
  },
  {
   "cell_type": "markdown",
   "id": "183462df",
   "metadata": {},
   "source": [
    "We know String are a sequence"
   ]
  },
  {
   "cell_type": "code",
   "execution_count": 1,
   "id": "cf40cc9a",
   "metadata": {},
   "outputs": [],
   "source": [
    "# assign s as a string\n",
    "\n",
    "s = 'This Batch Rocks'"
   ]
  },
  {
   "cell_type": "code",
   "execution_count": 2,
   "id": "c96a450e",
   "metadata": {},
   "outputs": [
    {
     "data": {
      "text/plain": [
       "'This Batch Rocks'"
      ]
     },
     "execution_count": 2,
     "metadata": {},
     "output_type": "execute_result"
    }
   ],
   "source": [
    "s"
   ]
  },
  {
   "cell_type": "code",
   "execution_count": 3,
   "id": "a47db7eb",
   "metadata": {},
   "outputs": [
    {
     "name": "stdout",
     "output_type": "stream",
     "text": [
      "This Batch Rocks\n"
     ]
    }
   ],
   "source": [
    "# print the object\n",
    "print(s)"
   ]
  },
  {
   "cell_type": "markdown",
   "id": "381dcd9e",
   "metadata": {},
   "source": [
    "Let's Start Indexing"
   ]
  },
  {
   "cell_type": "code",
   "execution_count": 85,
   "id": "b2eefccd",
   "metadata": {},
   "outputs": [
    {
     "data": {
      "text/plain": [
       "'T'"
      ]
     },
     "execution_count": 85,
     "metadata": {},
     "output_type": "execute_result"
    }
   ],
   "source": [
    "# show first element\n",
    "\n",
    "s[0]"
   ]
  },
  {
   "cell_type": "code",
   "execution_count": 86,
   "id": "af0bcc05",
   "metadata": {},
   "outputs": [
    {
     "data": {
      "text/plain": [
       "'B'"
      ]
     },
     "execution_count": 86,
     "metadata": {},
     "output_type": "execute_result"
    }
   ],
   "source": [
    "s[5]"
   ]
  },
  {
   "cell_type": "markdown",
   "id": "8f0419ec",
   "metadata": {},
   "source": [
    "We can use a (:) to perform slicing"
   ]
  },
  {
   "cell_type": "code",
   "execution_count": 87,
   "id": "8a3477e7",
   "metadata": {},
   "outputs": [
    {
     "data": {
      "text/plain": [
       "'his Batch Rocks'"
      ]
     },
     "execution_count": 87,
     "metadata": {},
     "output_type": "execute_result"
    }
   ],
   "source": [
    "# grab everything past the first term all the way to the length of s which is len(s)\n",
    "\n",
    "s[1:]  # starting point is included and ending point is excluded\n",
    "       "
   ]
  },
  {
   "cell_type": "code",
   "execution_count": 88,
   "id": "66247ad5",
   "metadata": {},
   "outputs": [
    {
     "data": {
      "text/plain": [
       "'This Batch Rocks'"
      ]
     },
     "execution_count": 88,
     "metadata": {},
     "output_type": "execute_result"
    }
   ],
   "source": [
    "# note that there is no change to the original s\n",
    "\n",
    "s"
   ]
  },
  {
   "cell_type": "code",
   "execution_count": 89,
   "id": "b42e23fd",
   "metadata": {},
   "outputs": [
    {
     "data": {
      "text/plain": [
       "'Thi'"
      ]
     },
     "execution_count": 89,
     "metadata": {},
     "output_type": "execute_result"
    }
   ],
   "source": [
    "# grab everything up to the 3rd index\n",
    "\n",
    "s[:3]"
   ]
  },
  {
   "cell_type": "code",
   "execution_count": 90,
   "id": "010ef2cc",
   "metadata": {},
   "outputs": [
    {
     "data": {
      "text/plain": [
       "'s Bat'"
      ]
     },
     "execution_count": 90,
     "metadata": {},
     "output_type": "execute_result"
    }
   ],
   "source": [
    "s[3:8] # start included and end 8 excluded"
   ]
  },
  {
   "cell_type": "code",
   "execution_count": 4,
   "id": "5369e1e7",
   "metadata": {},
   "outputs": [
    {
     "data": {
      "text/plain": [
       "'s'"
      ]
     },
     "execution_count": 4,
     "metadata": {},
     "output_type": "execute_result"
    }
   ],
   "source": [
    "# we can also use negative indexing to go backwads\n",
    "# last letter(one index behind 0 so it looks back around)\n",
    "\n",
    "s[-1]"
   ]
  },
  {
   "cell_type": "code",
   "execution_count": 5,
   "id": "03fb4f9c",
   "metadata": {},
   "outputs": [
    {
     "data": {
      "text/plain": [
       "'k'"
      ]
     },
     "execution_count": 5,
     "metadata": {},
     "output_type": "execute_result"
    }
   ],
   "source": [
    "s[-2]"
   ]
  },
  {
   "cell_type": "code",
   "execution_count": 6,
   "id": "55e9d322",
   "metadata": {},
   "outputs": [
    {
     "data": {
      "text/plain": [
       "'c'"
      ]
     },
     "execution_count": 6,
     "metadata": {},
     "output_type": "execute_result"
    }
   ],
   "source": [
    "s[-3]"
   ]
  },
  {
   "cell_type": "code",
   "execution_count": 7,
   "id": "6d100613",
   "metadata": {},
   "outputs": [
    {
     "data": {
      "text/plain": [
       "'This Batch Rock'"
      ]
     },
     "execution_count": 7,
     "metadata": {},
     "output_type": "execute_result"
    }
   ],
   "source": [
    "s[:-1] # end data excluded"
   ]
  },
  {
   "cell_type": "code",
   "execution_count": 8,
   "id": "2d3de117",
   "metadata": {},
   "outputs": [
    {
     "data": {
      "text/plain": [
       "'Ti ac ok'"
      ]
     },
     "execution_count": 8,
     "metadata": {},
     "output_type": "execute_result"
    }
   ],
   "source": [
    "# grab every thing, but go in step size of 1\n",
    "\n",
    "s[ : :2]"
   ]
  },
  {
   "cell_type": "code",
   "execution_count": 10,
   "id": "c81c8a92",
   "metadata": {},
   "outputs": [
    {
     "data": {
      "text/plain": [
       "'scRht'"
      ]
     },
     "execution_count": 10,
     "metadata": {},
     "output_type": "execute_result"
    }
   ],
   "source": [
    "# grab every thing, but go in step size of 2\n",
    "\n",
    "s[:5:-2]"
   ]
  },
  {
   "cell_type": "markdown",
   "id": "3718575b",
   "metadata": {},
   "source": [
    "# map()"
   ]
  },
  {
   "cell_type": "markdown",
   "id": "5246bb5b",
   "metadata": {},
   "source": [
    "The map is a function that takes in two arguments"
   ]
  },
  {
   "cell_type": "markdown",
   "id": "c2575a7e",
   "metadata": {},
   "source": [
    "1. A function"
   ]
  },
  {
   "cell_type": "markdown",
   "id": "065fedff",
   "metadata": {},
   "source": [
    "2. A sequence iterable\n",
    "In the form: map(function, sequence)"
   ]
  },
  {
   "cell_type": "code",
   "execution_count": 17,
   "id": "b3a6464e",
   "metadata": {},
   "outputs": [],
   "source": [
    "# function\n",
    "\n",
    "def grace_marks(marks):\n",
    "    if marks==30:\n",
    "        return(marks+5)\n",
    "    elif marks==31:\n",
    "        return(marks+4)\n",
    "    elif marks==32:\n",
    "        return(marks+3)\n",
    "    elif marks==33:\n",
    "        return(marks+2)\n",
    "    elif marks==34:\n",
    "        return(marks+1)\n",
    "    else:\n",
    "        return marks\n",
    "    "
   ]
  },
  {
   "cell_type": "code",
   "execution_count": 32,
   "id": "6a13e0ff",
   "metadata": {},
   "outputs": [],
   "source": [
    "# Sequence / data\n",
    "\n",
    "score=[45,50,30,60,32,30,32,33,31,34,35,34]"
   ]
  },
  {
   "cell_type": "code",
   "execution_count": 18,
   "id": "7512f5cc",
   "metadata": {},
   "outputs": [
    {
     "name": "stdout",
     "output_type": "stream",
     "text": [
      "[45, 50, 35, 60, 35, 35, 35, 35, 35, 35, 35, 35]\n"
     ]
    }
   ],
   "source": [
    "# convert into list\n",
    "\n",
    "total=list(map(grace_marks,score))\n",
    "print(total)"
   ]
  },
  {
   "cell_type": "code",
   "execution_count": 19,
   "id": "ce8df5aa",
   "metadata": {},
   "outputs": [
    {
     "data": {
      "text/plain": [
       "9"
      ]
     },
     "execution_count": 19,
     "metadata": {},
     "output_type": "execute_result"
    }
   ],
   "source": [
    "# count of student who just passed\n",
    "\n",
    "total.count(35)"
   ]
  },
  {
   "cell_type": "markdown",
   "id": "2f5d1cfa",
   "metadata": {},
   "source": [
    "# filter()"
   ]
  },
  {
   "cell_type": "markdown",
   "id": "b4e79fde",
   "metadata": {},
   "source": [
    "The function filter(function,list)"
   ]
  },
  {
   "cell_type": "code",
   "execution_count": 1,
   "id": "01cd5ff3",
   "metadata": {},
   "outputs": [],
   "source": [
    "def filter_marks(marks):\n",
    "    if marks<35:\n",
    "        return marks\n",
    "    "
   ]
  },
  {
   "cell_type": "code",
   "execution_count": 3,
   "id": "43d4b513",
   "metadata": {},
   "outputs": [],
   "source": [
    " score=[45,50,30,60,32,30,32,33,31,34,35,34,29,28]"
   ]
  },
  {
   "cell_type": "code",
   "execution_count": 4,
   "id": "cc0a2a7c",
   "metadata": {},
   "outputs": [
    {
     "data": {
      "text/plain": [
       "[30, 32, 30, 32, 33, 31, 34, 34, 29, 28]"
      ]
     },
     "execution_count": 4,
     "metadata": {},
     "output_type": "execute_result"
    }
   ],
   "source": [
    "failed=list(filter(filter_marks,score))\n",
    "failed"
   ]
  },
  {
   "cell_type": "markdown",
   "id": "15f99c1b",
   "metadata": {},
   "source": [
    "# Difference b/w map() and filter()\n"
   ]
  },
  {
   "cell_type": "markdown",
   "id": "03177e7f",
   "metadata": {},
   "source": [
    "Map accept all elements in a given list and a function can be  applied to it."
   ]
  },
  {
   "cell_type": "markdown",
   "id": "a7c1c772",
   "metadata": {},
   "source": [
    "Filter accept all data in a list and runs that through a function to create a new list with all elements that returns True in that function."
   ]
  },
  {
   "cell_type": "code",
   "execution_count": 5,
   "id": "d942f502",
   "metadata": {},
   "outputs": [
    {
     "data": {
      "text/plain": [
       "[True, False, True, False, True]"
      ]
     },
     "execution_count": 5,
     "metadata": {},
     "output_type": "execute_result"
    }
   ],
   "source": [
    "#Ex 1 map()\n",
    "\n",
    "list(map(lambda var:var%2==0, range(5)))"
   ]
  },
  {
   "cell_type": "code",
   "execution_count": 6,
   "id": "25c92b41",
   "metadata": {},
   "outputs": [
    {
     "data": {
      "text/plain": [
       "[0, 2, 4]"
      ]
     },
     "execution_count": 6,
     "metadata": {},
     "output_type": "execute_result"
    }
   ],
   "source": [
    "# Ex 2 filter()\n",
    "\n",
    "list(filter(lambda var:var%2==0, range(5)))\n"
   ]
  },
  {
   "cell_type": "markdown",
   "id": "4635fbc1",
   "metadata": {},
   "source": [
    "# Global and Local variable"
   ]
  },
  {
   "cell_type": "markdown",
   "id": "97a8f99b",
   "metadata": {},
   "source": [
    "Global variable defined outside the function.This variable can be used out side as well as inside the function"
   ]
  },
  {
   "cell_type": "code",
   "execution_count": 15,
   "id": "fe0cc88b",
   "metadata": {},
   "outputs": [
    {
     "name": "stdout",
     "output_type": "stream",
     "text": [
      "printing inside the function and total is   45\n"
     ]
    }
   ],
   "source": [
    "extra_marks=10     # outside the function\n",
    "def total_score_glob():\n",
    "    print('printing inside the function and total is  ', 35+extra_marks)\n",
    "total_score_glob()"
   ]
  },
  {
   "cell_type": "code",
   "execution_count": 14,
   "id": "b935dfd6",
   "metadata": {},
   "outputs": [
    {
     "name": "stdout",
     "output_type": "stream",
     "text": [
      "printing outside the function and total is   45\n"
     ]
    }
   ],
   "source": [
    "print('printing outside the function and total is  ', 35+extra_marks)"
   ]
  },
  {
   "cell_type": "markdown",
   "id": "60b618d6",
   "metadata": {},
   "source": [
    "Local variable defined inside the function.This variable can be used inside the function."
   ]
  },
  {
   "cell_type": "code",
   "execution_count": 18,
   "id": "24f0c733",
   "metadata": {},
   "outputs": [
    {
     "name": "stdout",
     "output_type": "stream",
     "text": [
      "printing inside the function and total is   100\n"
     ]
    }
   ],
   "source": [
    "def total_score_loc():\n",
    "    some_marks=50    # inside the function\n",
    "    print('printing inside the function and total is  ', 50 + some_marks)\n",
    "total_score_loc()"
   ]
  },
  {
   "cell_type": "code",
   "execution_count": 19,
   "id": "2e20118b",
   "metadata": {},
   "outputs": [
    {
     "ename": "NameError",
     "evalue": "name 'some_marks' is not defined",
     "output_type": "error",
     "traceback": [
      "\u001b[1;31m---------------------------------------------------------------------------\u001b[0m",
      "\u001b[1;31mNameError\u001b[0m                                 Traceback (most recent call last)",
      "\u001b[1;32m~\\AppData\\Local\\Temp/ipykernel_10964/3878214872.py\u001b[0m in \u001b[0;36m<module>\u001b[1;34m\u001b[0m\n\u001b[1;32m----> 1\u001b[1;33m \u001b[0mprint\u001b[0m\u001b[1;33m(\u001b[0m\u001b[1;34m'printing outside the function and total is  '\u001b[0m\u001b[1;33m,\u001b[0m \u001b[1;36m50\u001b[0m \u001b[1;33m+\u001b[0m \u001b[0msome_marks\u001b[0m\u001b[1;33m)\u001b[0m \u001b[1;31m# gives name error: some marks is not defined\u001b[0m\u001b[1;33m\u001b[0m\u001b[1;33m\u001b[0m\u001b[0m\n\u001b[0m",
      "\u001b[1;31mNameError\u001b[0m: name 'some_marks' is not defined"
     ]
    }
   ],
   "source": [
    "print('printing outside the function and total is  ', 50 + some_marks) # gives name error: name 'some marks' is not defined"
   ]
  },
  {
   "cell_type": "code",
   "execution_count": 25,
   "id": "48ec9d22",
   "metadata": {},
   "outputs": [
    {
     "name": "stdout",
     "output_type": "stream",
     "text": [
      "this is fantastic\n"
     ]
    }
   ],
   "source": [
    "# How to use local variable outside the function\n",
    "\n",
    "def local_global():\n",
    "    global var20    # define global variable var20\n",
    "    var20='this is fantastic'\n",
    "    print(var20)\n",
    "local_global()"
   ]
  },
  {
   "cell_type": "code",
   "execution_count": 26,
   "id": "9a473030",
   "metadata": {},
   "outputs": [
    {
     "name": "stdout",
     "output_type": "stream",
     "text": [
      "this is fantastic\n"
     ]
    }
   ],
   "source": [
    "print(var20)"
   ]
  },
  {
   "cell_type": "code",
   "execution_count": null,
   "id": "45223129",
   "metadata": {},
   "outputs": [],
   "source": []
  }
 ],
 "metadata": {
  "kernelspec": {
   "display_name": "Python 3 (ipykernel)",
   "language": "python",
   "name": "python3"
  },
  "language_info": {
   "codemirror_mode": {
    "name": "ipython",
    "version": 3
   },
   "file_extension": ".py",
   "mimetype": "text/x-python",
   "name": "python",
   "nbconvert_exporter": "python",
   "pygments_lexer": "ipython3",
   "version": "3.9.7"
  }
 },
 "nbformat": 4,
 "nbformat_minor": 5
}
