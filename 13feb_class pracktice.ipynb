{
 "cells": [
  {
   "cell_type": "code",
   "execution_count": 5,
   "id": "851c5b17",
   "metadata": {},
   "outputs": [
    {
     "name": "stdout",
     "output_type": "stream",
     "text": [
      "Its greater than 25\n"
     ]
    }
   ],
   "source": [
    "num1=20\n",
    "num2=30\n",
    "if num1=='20':\n",
    "    print('Its not 20')\n",
    "    \n",
    "elif num2>25:\n",
    "    print('Its greater than 25')\n"
   ]
  },
  {
   "cell_type": "markdown",
   "id": "12b9cef1",
   "metadata": {},
   "source": [
    "# LOOPS"
   ]
  },
  {
   "cell_type": "markdown",
   "id": "d96fd1ba",
   "metadata": {},
   "source": [
    "# FOR LOOP"
   ]
  },
  {
   "cell_type": "code",
   "execution_count": 1,
   "id": "363fccd3",
   "metadata": {},
   "outputs": [
    {
     "name": "stdout",
     "output_type": "stream",
     "text": [
      "['Benguluru', 'Noida', 'Chennai']\n"
     ]
    }
   ],
   "source": [
    "location=['Benguluru','Noida','Chennai']\n",
    "print(location)"
   ]
  },
  {
   "cell_type": "code",
   "execution_count": 2,
   "id": "0283e21a",
   "metadata": {},
   "outputs": [
    {
     "name": "stdout",
     "output_type": "stream",
     "text": [
      "Benguluru\n",
      "Noida\n",
      "Chennai\n"
     ]
    }
   ],
   "source": [
    "# list of string use For loop\n",
    "\n",
    "location=['Benguluru','Noida','Chennai']\n",
    "for i in location:\n",
    "    print(i)\n"
   ]
  },
  {
   "cell_type": "code",
   "execution_count": 4,
   "id": "818e14ff",
   "metadata": {},
   "outputs": [
    {
     "name": "stdout",
     "output_type": "stream",
     "text": [
      "7000\n"
     ]
    }
   ],
   "source": [
    "#Example\n",
    "\n",
    "salary=[2000,4000,5000,7000,4500]\n",
    "for val in salary:\n",
    "    if val>5500:\n",
    "        print(val)"
   ]
  },
  {
   "cell_type": "code",
   "execution_count": 19,
   "id": "b647d78e",
   "metadata": {},
   "outputs": [
    {
     "name": "stdout",
     "output_type": "stream",
     "text": [
      "35 - Just Pass\n",
      "67 - First Class\n",
      "78 - Distintion\n",
      "79 - Distintion\n",
      "12 - Failed\n",
      "34 - Failed\n"
     ]
    }
   ],
   "source": [
    "# Example \n",
    "\n",
    "student_scores=[35,67,78,79,12,34]\n",
    "for marks in student_scores:\n",
    "    if marks>60:\n",
    "        if marks>70:\n",
    "            print(marks, '- Distintion')\n",
    "        else:\n",
    "            print(marks, '- First Class')\n",
    "    elif marks>50 and marks<=60:\n",
    "         print(marks, '- Second Class')\n",
    "    elif marks>=35:\n",
    "         print(marks, '- Just Pass')\n",
    "    else:\n",
    "        print(marks, '- Failed')\n",
    "    \n",
    "        "
   ]
  },
  {
   "cell_type": "markdown",
   "id": "e42db962",
   "metadata": {},
   "source": [
    "# LIST COMPREHENSION"
   ]
  },
  {
   "cell_type": "code",
   "execution_count": 21,
   "id": "35dd8b1a",
   "metadata": {},
   "outputs": [
    {
     "data": {
      "text/plain": [
       "[7000, 8000]"
      ]
     },
     "execution_count": 21,
     "metadata": {},
     "output_type": "execute_result"
    }
   ],
   "source": [
    "# Keep result inside the list\n",
    "\n",
    "salary=[2000,4000,5000,7000,8000,4500]\n",
    "sal=[val for val in salary if val>5500]\n",
    "sal"
   ]
  },
  {
   "cell_type": "code",
   "execution_count": 22,
   "id": "cef4c61c",
   "metadata": {},
   "outputs": [
    {
     "name": "stdout",
     "output_type": "stream",
     "text": [
      "income till date => 100\n",
      "income till date => 250\n",
      "income till date => 350\n",
      "income till date => 550\n",
      "income till date => 700\n",
      "income till date => 900\n",
      "income till date => 1200\n"
     ]
    }
   ],
   "source": [
    "# List of numbers\n",
    "\n",
    "daily_sales=[100,150,100,200,150,200,300]\n",
    "# variable to store the sum\n",
    "income_till_date=0\n",
    "#iterate over the list\n",
    "for val in daily_sales:\n",
    "    income_till_date=income_till_date+val\n",
    "    print(\"income till date =>\", income_till_date)"
   ]
  },
  {
   "cell_type": "code",
   "execution_count": 34,
   "id": "853e092b",
   "metadata": {},
   "outputs": [
    {
     "name": "stdout",
     "output_type": "stream",
     "text": [
      "10\n",
      "20\n",
      "30\n",
      "No item left\n"
     ]
    }
   ],
   "source": [
    "# for loop with else\n",
    "\n",
    "digits=[10,20,30]\n",
    "for i in digits:\n",
    "    print(i)\n",
    "    \n",
    "else:\n",
    "        print('No item left')\n",
    "        "
   ]
  },
  {
   "cell_type": "markdown",
   "id": "06a2fd97",
   "metadata": {},
   "source": [
    "# WHILE LOOP"
   ]
  },
  {
   "cell_type": "code",
   "execution_count": 10,
   "id": "e6f0b7b5",
   "metadata": {},
   "outputs": [
    {
     "name": "stdout",
     "output_type": "stream",
     "text": [
      "Data Trained\n",
      "Data Trained\n",
      "Data Trained\n",
      "Data Trained\n",
      "Data Trained\n",
      "Data Trained\n",
      "Data Trained\n",
      "Data Trained\n",
      "Data Trained\n",
      "Data Trained\n",
      "Data Trained\n",
      "Data Trained\n",
      "Data Trained\n",
      "Data Trained\n",
      "Data Trained\n",
      "Data Trained\n",
      "Data Trained\n",
      "Data Trained\n",
      "Data Trained\n",
      "Data Trained\n"
     ]
    }
   ],
   "source": [
    "#use of while loop\n",
    "\n",
    "i=0\n",
    "while i<20:\n",
    "    i=i+1\n",
    "    \n",
    "    print( 'Data Trained')\n",
    "    "
   ]
  },
  {
   "cell_type": "code",
   "execution_count": 2,
   "id": "143fd5b9",
   "metadata": {},
   "outputs": [
    {
     "name": "stdout",
     "output_type": "stream",
     "text": [
      "time.struct_time(tm_year=2022, tm_mon=6, tm_mday=20, tm_hour=17, tm_min=1, tm_sec=30, tm_wday=0, tm_yday=171, tm_isdst=0)\n"
     ]
    }
   ],
   "source": [
    "import time\n",
    "result=time.localtime()\n",
    "print(result)"
   ]
  },
  {
   "cell_type": "code",
   "execution_count": null,
   "id": "1d9c2e19",
   "metadata": {},
   "outputs": [],
   "source": [
    "while True:\n",
    "    result=time.localtime()\n",
    "    if result.tm_hour== and result.tm_min==\n",
    "        print('wake up buddy')\n",
    "    break\n"
   ]
  },
  {
   "cell_type": "markdown",
   "id": "06f65237",
   "metadata": {},
   "source": [
    "# Enumerate"
   ]
  },
  {
   "cell_type": "code",
   "execution_count": 1,
   "id": "1d9e7cf6",
   "metadata": {},
   "outputs": [
    {
     "name": "stdout",
     "output_type": "stream",
     "text": [
      "(0, 'naveen')\n",
      "(1, 'Ratna')\n",
      "(2, 'vivaan')\n"
     ]
    }
   ],
   "source": [
    "students=['naveen','Ratna','vivaan']\n",
    "for name in enumerate(students):\n",
    "    print(name)"
   ]
  },
  {
   "cell_type": "code",
   "execution_count": null,
   "id": "2c656673",
   "metadata": {},
   "outputs": [],
   "source": []
  }
 ],
 "metadata": {
  "kernelspec": {
   "display_name": "Python 3 (ipykernel)",
   "language": "python",
   "name": "python3"
  },
  "language_info": {
   "codemirror_mode": {
    "name": "ipython",
    "version": 3
   },
   "file_extension": ".py",
   "mimetype": "text/x-python",
   "name": "python",
   "nbconvert_exporter": "python",
   "pygments_lexer": "ipython3",
   "version": "3.9.7"
  }
 },
 "nbformat": 4,
 "nbformat_minor": 5
}
