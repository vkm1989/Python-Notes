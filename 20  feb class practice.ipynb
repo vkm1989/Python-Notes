{
 "cells": [
  {
   "cell_type": "markdown",
   "id": "16fb278c",
   "metadata": {},
   "source": [
    "# INPUT FROM USERS"
   ]
  },
  {
   "cell_type": "code",
   "execution_count": 1,
   "id": "ec6bf897",
   "metadata": {},
   "outputs": [
    {
     "name": "stdout",
     "output_type": "stream",
     "text": [
      "Enter Your Name -  vkm\n",
      "User Entered:  vkm\n"
     ]
    }
   ],
   "source": [
    "# Program to take the input string from users\n",
    "\n",
    "name=input(\"Enter Your Name -  \")\n",
    "print('User Entered: ', name)"
   ]
  },
  {
   "cell_type": "markdown",
   "id": "ca12235f",
   "metadata": {},
   "source": [
    "Let's understand how to make users to enter only integers and string"
   ]
  },
  {
   "cell_type": "code",
   "execution_count": 2,
   "id": "0c1df175",
   "metadata": {},
   "outputs": [
    {
     "name": "stdout",
     "output_type": "stream",
     "text": [
      "Enter math score -  23\n",
      "Enter science score -  54\n",
      "Your Total Marks -   77\n"
     ]
    }
   ],
   "source": [
    "maths = int(input('Enter math score -  '))\n",
    "science = int(input('Enter science score -  '))\n",
    "total_marks = maths + science\n",
    "print('Your Total Marks -  ', total_marks)"
   ]
  },
  {
   "cell_type": "code",
   "execution_count": 3,
   "id": "c6a4fc8f",
   "metadata": {},
   "outputs": [
    {
     "name": "stdout",
     "output_type": "stream",
     "text": [
      "Enter your Name = vkm\n",
      "You Entered =   vkm\n"
     ]
    }
   ],
   "source": [
    "# How to chek only letters\n",
    "\n",
    "name=input('Enter your Name = ')\n",
    "if name.isalpha():\n",
    "    print('You Entered =  ', name)\n",
    "else:\n",
    "        print('Enter only alpha character')"
   ]
  },
  {
   "cell_type": "code",
   "execution_count": 4,
   "id": "144525b4",
   "metadata": {},
   "outputs": [],
   "source": [
    "# real time example\n",
    "\n",
    "def phone_price(phone_maker, phone_age, phone_model_gb):\n",
    "    if phone_maker=='iPHONE 11':\n",
    "        if 0<phone_age<=6:\n",
    "            if phone_model_gb==64:\n",
    "                print('Rs 40000 -Rs 42000')\n",
    "    elif phone_model_gb==128:\n",
    "                    print('Rs 45000 - Rs 50000')\n",
    "                    if 6<phone_age<=12:\n",
    "                        if phone_model_gb==64:\n",
    "                            print('Rs 30000 - Rs 35000')\n",
    "                        elif phone_model_gb==128:\n",
    "                            print('Rs 37000 - Rs 40000')\n",
    "    elif phone_maker=='Samsung B110': \n",
    "                                if 0<phone_age<=6:\n",
    "                                    print('Rs 800 - Rs 900')\n",
    "                                elif 6<phone_age<=12:\n",
    "                                        print('Rs 700 - Rs750')\n",
    "    else:\n",
    "        print('No stock right now')\n",
    "                                "
   ]
  },
  {
   "cell_type": "code",
   "execution_count": 5,
   "id": "86887d6c",
   "metadata": {},
   "outputs": [
    {
     "name": "stdout",
     "output_type": "stream",
     "text": [
      "Enter Phone Maker- Samsung B110\n",
      "Enter how old is your phone in month - 5\n",
      "Enter phone GB in numbers- 0\n",
      "Rs 800 - Rs 900\n"
     ]
    }
   ],
   "source": [
    "phone=input('Enter Phone Maker- ')\n",
    "months_old=int(input('Enter how old is your phone in month - '))\n",
    "capacity=int(input('Enter phone GB in numbers- '))\n",
    "phone_price(phone,months_old,capacity)"
   ]
  },
  {
   "cell_type": "markdown",
   "id": "0e455e47",
   "metadata": {},
   "source": [
    "# Errors and Exception Handling"
   ]
  },
  {
   "cell_type": "markdown",
   "id": "a16fc31d",
   "metadata": {},
   "source": [
    "using just except, we can chek for any exception: to understand better lets chekout a sample code."
   ]
  },
  {
   "cell_type": "code",
   "execution_count": 6,
   "id": "f05f1261",
   "metadata": {},
   "outputs": [],
   "source": [
    "marks_1=88\n",
    "subject='Data Science'\n",
    "marks_2=33"
   ]
  },
  {
   "cell_type": "code",
   "execution_count": 7,
   "id": "ee27bf63",
   "metadata": {},
   "outputs": [
    {
     "name": "stdout",
     "output_type": "stream",
     "text": [
      "you are adding integer to string, make sure both data type are matching\n"
     ]
    }
   ],
   "source": [
    "try:\n",
    "    total=marks_1+subject\n",
    "    # print (average) you can also return the result here\n",
    "    \n",
    "except:\n",
    "    print('you are adding integer to string, make sure both data type are matching')\n",
    "    # else is optional some time\n",
    "else:\n",
    "        print('Total marks= ', total)"
   ]
  },
  {
   "cell_type": "markdown",
   "id": "1e00eea7",
   "metadata": {},
   "source": [
    "In the above example you got an error, now you know your mistake.You can correct your mistake now."
   ]
  },
  {
   "cell_type": "code",
   "execution_count": 8,
   "id": "a362b3af",
   "metadata": {},
   "outputs": [
    {
     "name": "stdout",
     "output_type": "stream",
     "text": [
      "Total marks=  121\n"
     ]
    }
   ],
   "source": [
    "try:\n",
    "    total=marks_1+marks_2\n",
    "    # print (average) you can also return the result here\n",
    "    \n",
    "except:\n",
    "    print('you are adding integer to string, make sure both data type are matching')\n",
    "    # else is optional some time\n",
    "else:\n",
    "        print('Total marks= ', total)"
   ]
  },
  {
   "cell_type": "code",
   "execution_count": 9,
   "id": "b0b00c3d",
   "metadata": {},
   "outputs": [
    {
     "name": "stdout",
     "output_type": "stream",
     "text": [
      "your car number  up81\n",
      "Name  vkm\n",
      "Mobile Number  12345678\n",
      "Thanks for all details\n"
     ]
    }
   ],
   "source": [
    "# try how to work in real time\n",
    "\n",
    "try:\n",
    "    car_number=input('your car number  ')\n",
    "    name=input('Name  ')\n",
    "    mobile=input('Mobile Number  ')\n",
    "    if car_number =='':\n",
    "        raise Exception()\n",
    "    elif name =='':\n",
    "        raise Exception()\n",
    "    elif mobile =='':\n",
    "        raise Exception()\n",
    "    else:\n",
    "        pass\n",
    "except:\n",
    "    \n",
    "    # for car number\n",
    "    if car_number =='':\n",
    "        print('\\n The registration number field is required. \\n') # \\n means move to next line\n",
    "        \n",
    "    # for name\n",
    "    if name =='':\n",
    "        print('The customer name field is required. \\n')\n",
    "        \n",
    "    # for mobile\n",
    "    if mobile =='':\n",
    "        print('The mobile number field is required')\n",
    "        \n",
    "    # else part will execute only when there is no issue with try block\n",
    "else:\n",
    "        print('Thanks for all details')"
   ]
  },
  {
   "cell_type": "markdown",
   "id": "0a59932b",
   "metadata": {},
   "source": [
    "# finally"
   ]
  },
  {
   "cell_type": "markdown",
   "id": "98f20459",
   "metadata": {},
   "source": [
    "finally block execute all time, no matter what happen in the above try and except blocks"
   ]
  },
  {
   "cell_type": "code",
   "execution_count": 10,
   "id": "d8995b17",
   "metadata": {},
   "outputs": [
    {
     "name": "stdout",
     "output_type": "stream",
     "text": [
      "your car number  up53gb\n",
      "Name  akm\n",
      "Mobile Number  122224\n",
      "Thanks for all details\n",
      "In any case finally block will execute\n"
     ]
    }
   ],
   "source": [
    "try:\n",
    "    car_number=input('your car number  ')\n",
    "    name=input('Name  ')\n",
    "    mobile=input('Mobile Number  ')\n",
    "    if car_number =='':\n",
    "        raise Exception()\n",
    "    elif name =='':\n",
    "        raise Exception()\n",
    "    elif mobile =='':\n",
    "        raise Exception()\n",
    "    else:\n",
    "        pass\n",
    "except:\n",
    "    \n",
    "    # for car number\n",
    "    if car_number =='':\n",
    "        print('\\n The registration number field is required. \\n') # \\n means move to next line\n",
    "        \n",
    "    # for name\n",
    "    if name =='':\n",
    "        print('The customer name field is required. \\n')\n",
    "        \n",
    "    # for mobile\n",
    "    if mobile =='':\n",
    "        print('The mobile number field is required')\n",
    "        \n",
    "    # else part will execute only when there is no issue with try block\n",
    "else:\n",
    "        print('Thanks for all details')\n",
    "        \n",
    "finally:\n",
    "    print('In any case finally block will execute')"
   ]
  },
  {
   "cell_type": "markdown",
   "id": "599924c1",
   "metadata": {},
   "source": [
    "we can use this in cunjuction with except.Let see a new example that will take into account a user putting in the wrong input:"
   ]
  },
  {
   "cell_type": "code",
   "execution_count": 16,
   "id": "f3193db6",
   "metadata": {},
   "outputs": [],
   "source": [
    "def mob_num():\n",
    "    try:\n",
    "        val=int(input('enter your mobile number  :  '))\n",
    "    except:\n",
    "        print(\"you did not enter an integer!\")\n",
    "    print(val)"
   ]
  },
  {
   "cell_type": "code",
   "execution_count": 17,
   "id": "b31ff237",
   "metadata": {},
   "outputs": [
    {
     "name": "stdout",
     "output_type": "stream",
     "text": [
      "enter your mobile number  :  9760399389\n",
      "9760399389\n"
     ]
    }
   ],
   "source": [
    "mob_num()"
   ]
  },
  {
   "cell_type": "markdown",
   "id": "ac282d36",
   "metadata": {},
   "source": [
    "chek how we got an error when trying to print val (because it was properly assigned). Lets find the right solution by asking the user and cheking to make sure the input type is an integer."
   ]
  },
  {
   "cell_type": "code",
   "execution_count": 18,
   "id": "660bc9f5",
   "metadata": {},
   "outputs": [],
   "source": [
    "def mob_num():\n",
    "    while True:\n",
    "        \n",
    "        try:\n",
    "            val=int(input('enter your mobile number  :  '))\n",
    "        \n",
    "        except:\n",
    "            print(\"you did not enter an integer\")\n",
    "            continue\n",
    "        else:\n",
    "            if len(str(val))!=10: # converting into string for length val is int data type\n",
    "                print('mobile number must be 10 digit')\n",
    "                continue\n",
    "                \n",
    "            print('Thank You')\n",
    "            break\n",
    "        \n",
    "        "
   ]
  },
  {
   "cell_type": "code",
   "execution_count": 19,
   "id": "8ac54ef7",
   "metadata": {},
   "outputs": [
    {
     "name": "stdout",
     "output_type": "stream",
     "text": [
      "enter your mobile number  :  9760399389\n",
      "Thank You\n"
     ]
    }
   ],
   "source": [
    "mob_num()"
   ]
  },
  {
   "cell_type": "code",
   "execution_count": null,
   "id": "abab5348",
   "metadata": {},
   "outputs": [],
   "source": []
  }
 ],
 "metadata": {
  "kernelspec": {
   "display_name": "Python 3 (ipykernel)",
   "language": "python",
   "name": "python3"
  },
  "language_info": {
   "codemirror_mode": {
    "name": "ipython",
    "version": 3
   },
   "file_extension": ".py",
   "mimetype": "text/x-python",
   "name": "python",
   "nbconvert_exporter": "python",
   "pygments_lexer": "ipython3",
   "version": "3.9.7"
  }
 },
 "nbformat": 4,
 "nbformat_minor": 5
}
